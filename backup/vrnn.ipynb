{
 "cells": [
  {
   "cell_type": "markdown",
   "metadata": {},
   "source": [
    "# Tutorial: Human Motion Generative Model Using Variational Autoencoder\n",
    "\n",
    "Variational recurrent neural network (VRNN) extracts human motion features we use an autoencoder, and to represent the extracted features as a probability density function in a latent space we use a variational autoencoder. Motion generator is modeled as a map from a latent variable sampled in the latent space to a motion capture data.\n",
    "\n",
    "<div>\n",
    "<img src=\"../../../images/vrnn.png\" width=\"500\"/>\n",
    "</div>\n",
    "\n",
    "[original image link](http://www.ijmo.org/vol8/616-GV015.pdf)\n"
   ]
  },
  {
   "cell_type": "code",
   "execution_count": 1,
   "metadata": {},
   "outputs": [
    {
     "data": {
      "text/plain": [
       "['algorithm', 'dataset', 'pretrained', 'render', '__init__.py', '__pycache__']"
      ]
     },
     "execution_count": 1,
     "metadata": {},
     "output_type": "execute_result"
    }
   ],
   "source": [
    "import os\n",
    "os.chdir(\"../../../../genmotion/\")\n",
    "os.listdir(os.getcwd())"
   ]
  },
  {
   "cell_type": "code",
   "execution_count": 2,
   "metadata": {},
   "outputs": [],
   "source": [
    "import torch"
   ]
  },
  {
   "cell_type": "code",
   "execution_count": 3,
   "metadata": {},
   "outputs": [
    {
     "name": "stdout",
     "output_type": "stream",
     "text": [
      "opt: {'exp_mode': 'train', 'model_name': 'vrnn', 'learning_rate': 0.0001, 'input_dim': 62, 'output_dim': 62, 'position_loss_weight': 0.1, 'rotation_loss_weight': 1.0, 'model_save_path': 'e:\\\\researches\\\\GenMotion\\\\genmotion\\\\pretrained_models\\\\vrnn4hdm05', 'frame_interval': 10, 'input_motion_length': 50, 'hidden_dim': 128, 'n_layers': 1, 'z_dim': 32}\n"
     ]
    }
   ],
   "source": [
    "from algorithm.vrnn.params import HDM05Params\n",
    "\n",
    "opt = HDM05Params().get_params()\n",
    "print(\"opt:\",opt)"
   ]
  },
  {
   "cell_type": "code",
   "execution_count": 4,
   "metadata": {},
   "outputs": [
    {
     "name": "stderr",
     "output_type": "stream",
     "text": [
      "  6%|▋         | 1/16 [00:00<00:02,  6.17it/s]"
     ]
    },
    {
     "name": "stdout",
     "output_type": "stream",
     "text": [
      "loading amc files:\n"
     ]
    },
    {
     "name": "stderr",
     "output_type": "stream",
     "text": [
      "100%|██████████| 16/16 [00:02<00:00,  7.15it/s]\n",
      "100%|██████████| 16/16 [00:00<00:00, 363.64it/s]"
     ]
    },
    {
     "name": "stdout",
     "output_type": "stream",
     "text": [
      "preparing training data\n"
     ]
    },
    {
     "name": "stderr",
     "output_type": "stream",
     "text": [
      "\n"
     ]
    }
   ],
   "source": [
    "from dataset.hdm05.hdm05_data_utils import HDM05Dataset\n",
    "\n",
    "data_path = \"E:/researches/GenMotion/dataset/HDM05/HDM_01-01_amc\"\n",
    "dataset = HDM05Dataset(data_path, opt)"
   ]
  },
  {
   "cell_type": "code",
   "execution_count": null,
   "metadata": {},
   "outputs": [],
   "source": [
    "from algorithm.vrnn.models import VRNN\n",
    "\n",
    "model = VRNN(opt)"
   ]
  },
  {
   "cell_type": "code",
   "execution_count": null,
   "metadata": {},
   "outputs": [],
   "source": [
    "# set up model device\n",
    "device = torch.device(\"cuda\") if torch.cuda.is_available() else torch.device(\"cpu\")"
   ]
  },
  {
   "cell_type": "code",
   "execution_count": null,
   "metadata": {},
   "outputs": [],
   "source": [
    "# define the path your want to save the model\n",
    "# save_path = os.path.join(genmotion.__path__, \"../pretrained\")\n",
    "save_path = os.path.join(os.getcwd(), \"pretrained\")       \n",
    "print(save_path) \n",
    "opt[\"model_save_path\"] = save_path       "
   ]
  },
  {
   "cell_type": "code",
   "execution_count": null,
   "metadata": {},
   "outputs": [],
   "source": [
    "from algorithm.vrnn.trainer import HDM05Trainer\n",
    "\n",
    "trainer = HDM05Trainer(dataset, model, opt, device)\n",
    "\n",
    "print(\"training dataset size: \", len(trainer.train_dataset))\n",
    "print(\"evaluation dataset size: \", len(trainer.test_dataset))   "
   ]
  },
  {
   "cell_type": "code",
   "execution_count": null,
   "metadata": {},
   "outputs": [],
   "source": [
    "trainer.train(epochs=1)"
   ]
  },
  {
   "cell_type": "code",
   "execution_count": 5,
   "metadata": {},
   "outputs": [
    {
     "name": "stdout",
     "output_type": "stream",
     "text": [
      "e:\\researches\\genmotion\\genmotion\\pretrained/best.pth\n"
     ]
    }
   ],
   "source": [
    "import genmotion\n",
    "save_path = os.path.join(genmotion.__path__[0], \"pretrained/best.pth\")\n",
    "# save_path = os.path.join(os.getcwd(), \"/../pretrained\")\n",
    "print(save_path)"
   ]
  },
  {
   "cell_type": "code",
   "execution_count": 7,
   "metadata": {},
   "outputs": [],
   "source": [
    "# set up model device\n",
    "device = torch.device(\"cuda\") if torch.cuda.is_available() else torch.device(\"cpu\")"
   ]
  },
  {
   "cell_type": "code",
   "execution_count": 8,
   "metadata": {},
   "outputs": [],
   "source": [
    "from algorithm.vrnn.sampler import HDM05Sampler\n",
    "sampler = HDM05Sampler(save_path, opt, device)"
   ]
  },
  {
   "cell_type": "code",
   "execution_count": 9,
   "metadata": {},
   "outputs": [],
   "source": [
    "input_motion = dataset[0]"
   ]
  },
  {
   "cell_type": "code",
   "execution_count": 12,
   "metadata": {},
   "outputs": [],
   "source": [
    "sampled_motion = sampler.sample(input_motion)"
   ]
  },
  {
   "cell_type": "code",
   "execution_count": 19,
   "metadata": {},
   "outputs": [
    {
     "data": {
      "text/plain": [
       "torch.Size([20, 1, 62])"
      ]
     },
     "execution_count": 19,
     "metadata": {},
     "output_type": "execute_result"
    }
   ],
   "source": [
    "torch.FloatTensor(sampled_motion).shape"
   ]
  }
 ],
 "metadata": {
  "interpreter": {
   "hash": "be1319e0e5f68e9995c6387a47576bb513b1b8a8d0c4fb228c987c15c4df3d92"
  },
  "kernelspec": {
   "display_name": "Python 3.8.5 64-bit ('Questionnaire': conda)",
   "language": "python",
   "name": "python3"
  },
  "language_info": {
   "codemirror_mode": {
    "name": "ipython",
    "version": 3
   },
   "file_extension": ".py",
   "mimetype": "text/x-python",
   "name": "python",
   "nbconvert_exporter": "python",
   "pygments_lexer": "ipython3",
   "version": "3.8.5"
  },
  "orig_nbformat": 4
 },
 "nbformat": 4,
 "nbformat_minor": 2
}
