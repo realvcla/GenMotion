{
 "cells": [
  {
   "cell_type": "code",
   "execution_count": 1,
   "id": "streaming-desert",
   "metadata": {},
   "outputs": [],
   "source": [
    "import socket\n",
    "import threading\n",
    "import socketserver\n"
   ]
  },
  {
   "cell_type": "code",
   "execution_count": 2,
   "id": "german-secondary",
   "metadata": {},
   "outputs": [],
   "source": [
    "# #def client(ip, port, message):\n",
    "# with \n",
    "#     sock.connect((ip, port))\n",
    "#     sock.sendall(bytes(message, 'ascii'))\n",
    "#     response = str(sock.recv(1024), 'ascii')\n",
    "#     print(\"Received: {}\".format(response))\n",
    "\n",
    "#client(ip, port, \"Hello \")"
   ]
  },
  {
   "cell_type": "code",
   "execution_count": null,
   "id": "weighted-failure",
   "metadata": {},
   "outputs": [],
   "source": [
    "message = \"doc.InsertObject(c4d.BaseObject(c4d.Ocube))\""
   ]
  },
  {
   "cell_type": "code",
   "execution_count": 3,
   "id": "noted-glasgow",
   "metadata": {},
   "outputs": [],
   "source": [
    "sock = socket.socket(socket.AF_INET, socket.SOCK_STREAM)"
   ]
  },
  {
   "cell_type": "code",
   "execution_count": 4,
   "id": "gross-breath",
   "metadata": {},
   "outputs": [],
   "source": [
    "ip, port = \"127.0.0.1\", 3006"
   ]
  },
  {
   "cell_type": "code",
   "execution_count": null,
   "id": "identified-canon",
   "metadata": {},
   "outputs": [],
   "source": [
    "sock.connect((ip, port))"
   ]
  },
  {
   "cell_type": "code",
   "execution_count": null,
   "id": "animated-partnership",
   "metadata": {},
   "outputs": [],
   "source": [
    "sock.sendall(bytes(message, 'ascii'))"
   ]
  },
  {
   "cell_type": "code",
   "execution_count": null,
   "id": "turned-nicaragua",
   "metadata": {},
   "outputs": [],
   "source": [
    "sock.sendall(bytes(\"c4d.EventAdd()\", 'utf-8'))"
   ]
  },
  {
   "cell_type": "code",
   "execution_count": null,
   "id": "molecular-carolina",
   "metadata": {},
   "outputs": [],
   "source": [
    "message = \"obj = c4d.BaseObject(c4d.Ocube) \\\\n doc.InsertObject(obj)\""
   ]
  },
  {
   "cell_type": "code",
   "execution_count": null,
   "id": "floating-mission",
   "metadata": {},
   "outputs": [],
   "source": [
    "a = \"root_trX = c4d.CTrack(root, c4d.DescID(c4d.DescLevel(c4d.ID_BASEOBJECT_POSITION, c4d.DTYPE_VECTOR, 0), c4d.DescLevel(c4d.VECTOR_X, c4d.DTYPE_REAL, 0)))\\\n",
    "root_trY = c4d.CTrack(root, c4d.DescID(c4d.DescLevel(c4d.ID_BASEOBJECT_POSITION, c4d.DTYPE_VECTOR, 0), c4d.DescLevel(c4d.VECTOR_Y, c4d.DTYPE_REAL, 0))) \\\n",
    "root_trZ = c4d.CTrack(root, c4d.DescID(c4d.DescLevel(c4d.ID_BASEOBJECT_POSITION, c4d.DTYPE_VECTOR, 0), c4d.DescLevel(c4d.VECTOR_Z, c4d.DTYPE_REAL, 0))) \\\n",
    "\n",
    "# Creates the track in memory. Defined by it's DESCID    \n",
    "root_rX = c4d.CTrack(root, c4d.DescID(c4d.DescLevel(c4d.ID_BASEOBJECT_REL_ROTATION, c4d.DTYPE_VECTOR, 0), c4d.DescLevel(c4d.VECTOR_X, c4d.DTYPE_REAL, 0)))\n",
    "root_rY = c4d.CTrack(root, c4d.DescID(c4d.DescLevel(c4d.ID_BASEOBJECT_REL_ROTATION, c4d.DTYPE_VECTOR, 0), c4d.DescLevel(c4d.VECTOR_Y, c4d.DTYPE_REAL, 0)))\n",
    "root_rZ = c4d.CTrack(root, c4d.DescID(c4d.DescLevel(c4d.ID_BASEOBJECT_REL_ROTATION, c4d.DTYPE_VECTOR, 0), c4d.DescLevel(c4d.VECTOR_Z, c4d.DTYPE_REAL, 0)))\""
   ]
  },
  {
   "cell_type": "code",
   "execution_count": null,
   "id": "canadian-birmingham",
   "metadata": {},
   "outputs": [],
   "source": [
    "sock.sendall(bytes(\"a = 1 \\n b=2\", 'utf-8'))"
   ]
  },
  {
   "cell_type": "code",
   "execution_count": null,
   "id": "medium-stationery",
   "metadata": {},
   "outputs": [],
   "source": []
  }
 ],
 "metadata": {
  "kernelspec": {
   "display_name": "Python 3",
   "language": "python",
   "name": "python3"
  },
  "language_info": {
   "codemirror_mode": {
    "name": "ipython",
    "version": 3
   },
   "file_extension": ".py",
   "mimetype": "text/x-python",
   "name": "python",
   "nbconvert_exporter": "python",
   "pygments_lexer": "ipython3",
   "version": "3.8.5"
  }
 },
 "nbformat": 4,
 "nbformat_minor": 5
}
