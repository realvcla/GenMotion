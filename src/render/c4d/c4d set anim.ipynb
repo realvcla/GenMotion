{
 "cells": [
  {
   "cell_type": "code",
   "execution_count": 1,
   "id": "false-intermediate",
   "metadata": {},
   "outputs": [],
   "source": [
    "import os\n",
    "import numpy as np\n",
    "import time\n",
    "import socket"
   ]
  },
  {
   "cell_type": "code",
   "execution_count": 2,
   "id": "gentle-aside",
   "metadata": {},
   "outputs": [],
   "source": [
    "class C4DController():\n",
    "    def __init__(self, PORT = 3006):\n",
    "        # connect to Maya server\n",
    "        HOST = '127.0.0.1'  # Symbolic name meaning the local host\n",
    "        #PORT = PORT  # Arbitrary non-privileged port\n",
    "\n",
    "        ADDR = (HOST, PORT)\n",
    "\n",
    "        self.client = socket.socket(socket.AF_INET, socket.SOCK_STREAM)\n",
    "        self.client.connect(ADDR)\n",
    "\n",
    "    def SendCommand(self, command: str):\n",
    "        self.client.sendall(bytes(command, 'utf-8'))\n",
    "\n",
    "    def RegisterEvent(self):\n",
    "        self.client.sendall(bytes(\"c4d.EventAdd()\", 'utf-8'))\n",
    "\n",
    "    def SetOneKeyFrame(self, curve_name: str, frame: int, value: float):\n",
    "        # Retrieves the current time\n",
    "        self.SendCommand(\"keyTime = c4d.BaseTime({}, doc.GetFps())\".format(str(frame)))\n",
    "        self.SendCommand(\"added = {}.AddKey(keyTime)\".format(curve_name))\n",
    "        self.SendCommand(\"added[\\\"key\\\"].SetValue({}, 0)\".format(curve_name))\n",
    "        self.SendCommand(\"added[\\\"key\\\"].SetInterpolation({},c4d.CINTERPOLATION_SPLINE)\".format(curve_name))\n",
    "        self.SendCommand(\"{}.SetKeyDefault(doc, added_X[\\\"nidx\\\"])\".format(curve_name))\n",
    "        \n",
    "        # Sets the key to default status AutoTangent etc..."
   ]
  },
  {
   "cell_type": "code",
   "execution_count": 3,
   "id": "sitting-transportation",
   "metadata": {},
   "outputs": [],
   "source": [
    "cc = C4DController()"
   ]
  },
  {
   "cell_type": "code",
   "execution_count": null,
   "id": "corporate-revolution",
   "metadata": {},
   "outputs": [],
   "source": [
    "#cc.SendCommand(\"global doc\")"
   ]
  },
  {
   "cell_type": "code",
   "execution_count": null,
   "id": "steady-retrieval",
   "metadata": {},
   "outputs": [],
   "source": [
    "cc.SendCommand(\"print(keyTime.Get())\")"
   ]
  },
  {
   "cell_type": "code",
   "execution_count": null,
   "id": "accepting-version",
   "metadata": {},
   "outputs": [],
   "source": [
    "cc.SendCommand(\"root_name = \\\"f_avg_root\\\"\")"
   ]
  },
  {
   "cell_type": "code",
   "execution_count": null,
   "id": "permanent-reynolds",
   "metadata": {},
   "outputs": [],
   "source": [
    "cc.SendCommand(\"doc2 = c4d.documents.GetActiveDocument()\")"
   ]
  },
  {
   "cell_type": "code",
   "execution_count": null,
   "id": "lasting-capitol",
   "metadata": {},
   "outputs": [],
   "source": [
    "cc.SendCommand(\"c4d.documents.SetActiveDocument(doc2)\")"
   ]
  },
  {
   "cell_type": "code",
   "execution_count": null,
   "id": "balanced-royal",
   "metadata": {},
   "outputs": [],
   "source": [
    "cc.SendCommand(\"root = doc2.SearchObject(root_name)\")"
   ]
  },
  {
   "cell_type": "code",
   "execution_count": null,
   "id": "neural-excess",
   "metadata": {},
   "outputs": [],
   "source": [
    "cc.SendCommand(\"print(root)\")"
   ]
  },
  {
   "cell_type": "code",
   "execution_count": null,
   "id": "attached-publisher",
   "metadata": {},
   "outputs": [],
   "source": [
    "cc.SendCommand(\"root_trX = c4d.CTrack(root, c4d.DescID(c4d.DescLevel(c4d.ID_BASEOBJECT_POSITION, c4d.DTYPE_VECTOR, 0), c4d.DescLevel(c4d.VECTOR_X, c4d.DTYPE_REAL, 0)))\")"
   ]
  },
  {
   "cell_type": "code",
   "execution_count": null,
   "id": "advised-electronics",
   "metadata": {},
   "outputs": [],
   "source": [
    "cc.SendCommand(\"root_trY = c4d.CTrack(root, c4d.DescID(c4d.DescLevel(c4d.ID_BASEOBJECT_POSITION, c4d.DTYPE_VECTOR, 0), c4d.DescLevel(c4d.VECTOR_Y, c4d.DTYPE_REAL, 0)))\")"
   ]
  },
  {
   "cell_type": "code",
   "execution_count": null,
   "id": "western-warner",
   "metadata": {},
   "outputs": [],
   "source": [
    "cc.SendCommand(\"root_trZ = c4d.CTrack(root, c4d.DescID(c4d.DescLevel(c4d.ID_BASEOBJECT_POSITION, c4d.DTYPE_VECTOR, 0), c4d.DescLevel(c4d.VECTOR_Z, c4d.DTYPE_REAL, 0)))\")"
   ]
  },
  {
   "cell_type": "code",
   "execution_count": 17,
   "id": "manual-trail",
   "metadata": {},
   "outputs": [],
   "source": [
    "cc.SendCommand(\"e = 1{}f= 2\".format(\"\\n\"))"
   ]
  },
  {
   "cell_type": "code",
   "execution_count": 16,
   "id": "concrete-stocks",
   "metadata": {},
   "outputs": [],
   "source": [
    "ll = [\"e = 5\",\"f=412\"]"
   ]
  },
  {
   "cell_type": "code",
   "execution_count": 19,
   "id": "first-today",
   "metadata": {},
   "outputs": [],
   "source": [
    "cc.SendCommand(\"\\n\".join(preparation_command_0))"
   ]
  },
  {
   "cell_type": "code",
   "execution_count": 15,
   "id": "large-utilization",
   "metadata": {},
   "outputs": [],
   "source": [
    "preparation_command_0 = [\"import c4d\",\n",
    "\"# set documentation\",\n",
    "\"doc = c4d.documents.GetActiveDocument()\",\n",
    "\"root_name = \\\"f_avg_root\\\"\",\n",
    "\"root = doc.SearchObject(root_name)\",\n",
    "\"# Creates the track in memory. Defined by it's DESCID    \",\n",
    "\"root_trX = c4d.CTrack(root, c4d.DescID(c4d.DescLevel(c4d.ID_BASEOBJECT_POSITION, c4d.DTYPE_VECTOR, 0), c4d.DescLevel(c4d.VECTOR_X, c4d.DTYPE_REAL, 0)))\",\n",
    "\"root_trY = c4d.CTrack(root, c4d.DescID(c4d.DescLevel(c4d.ID_BASEOBJECT_POSITION, c4d.DTYPE_VECTOR, 0), c4d.DescLevel(c4d.VECTOR_Y, c4d.DTYPE_REAL, 0)))\",\n",
    "\"root_trZ = c4d.CTrack(root, c4d.DescID(c4d.DescLevel(c4d.ID_BASEOBJECT_POSITION, c4d.DTYPE_VECTOR, 0), c4d.DescLevel(c4d.VECTOR_Z, c4d.DTYPE_REAL, 0)))\",\n",
    "\"# Creates the track in memory. Defined by it's DESCID    \",\n",
    "\"root_rX = c4d.CTrack(root, c4d.DescID(c4d.DescLevel(c4d.ID_BASEOBJECT_REL_ROTATION, c4d.DTYPE_VECTOR, 0), c4d.DescLevel(c4d.VECTOR_X, c4d.DTYPE_REAL, 0)))\",\n",
    "\"root_rY = c4d.CTrack(root, c4d.DescID(c4d.DescLevel(c4d.ID_BASEOBJECT_REL_ROTATION, c4d.DTYPE_VECTOR, 0), c4d.DescLevel(c4d.VECTOR_Y, c4d.DTYPE_REAL, 0)))\",\n",
    "\"root_rZ = c4d.CTrack(root, c4d.DescID(c4d.DescLevel(c4d.ID_BASEOBJECT_REL_ROTATION, c4d.DTYPE_VECTOR, 0), c4d.DescLevel(c4d.VECTOR_Z, c4d.DTYPE_REAL, 0)))\",\n",
    "\"# Gets Curves for the track\",\n",
    "\"root_curveX = root_trX.GetCurve()\",\n",
    "\"root_curveY = root_trY.GetCurve()\",\n",
    "\"root_curveZ = root_trZ.GetCurve()\",\n",
    "\"# Gets Curves for the track\",\n",
    "\"root_curveRX = root_rX.GetCurve()\",\n",
    "\"root_curveRY = root_rY.GetCurve()\",\n",
    "\"root_curveRZ = root_rZ.GetCurve()\"]"
   ]
  },
  {
   "cell_type": "code",
   "execution_count": 20,
   "id": "changing-tobago",
   "metadata": {},
   "outputs": [],
   "source": [
    "# Get skeleton information from https://meshcapade.wiki/SMPL#smpl-x\n",
    "SMPL_SKELETON = {\n",
    "    0: 'Pelvis',     3: 'Spine1',       6: 'Spine2',    9: 'Spine3',    12: 'Neck',     15: 'Head',\n",
    "     1: 'L_Hip',      4: 'L_Knee',       7: 'L_Ankle',  10: 'L_Foot',\n",
    "     2: 'R_Hip',      5: 'R_Knee',       8: 'R_Ankle',  11: 'R_Foot',\n",
    "    13: 'L_Collar',  16: 'L_Shoulder',  18: 'L_Elbow',  20: 'L_Wrist',\n",
    "    14: 'R_Collar',  17: 'R_Shoulder',  19: 'R_Elbow',  21: 'R_Wrist',\n",
    "    22: 'L_Hand',\n",
    "    23: 'R_Hand'\n",
    "}\n",
    "\n",
    "SMPL_H_SKELETON = {\n",
    "    0: 'Pelvis',     3: 'Spine1',       6: 'Spine2',    9: 'Spine3',    12: 'Neck',     15: 'Head',\n",
    "    1: 'L_Hip',      4: 'L_Knee',       7: 'L_Ankle',  10: 'L_Foot',\n",
    "    2: 'R_Hip',      5: 'R_Knee',       8: 'R_Ankle',  11: 'R_Foot',\n",
    "    13: 'L_Collar',  16: 'L_Shoulder',  18: 'L_Elbow',  20: 'L_Wrist',\n",
    "    14: 'R_Collar',  17: 'R_Shoulder',  19: 'R_Elbow',  21: 'R_Wrist',\n",
    "    22: 'lindex0',  23: 'lindex1',  24: 'lindex2',\n",
    "    25: 'lmiddle0', 26: 'lmiddle1', 27: 'lmiddle2',\n",
    "    28: 'lpinky0',  29: 'lpinky1',  30: 'lpinky2',\n",
    "    31: 'lring0',   32: 'lring1',   33: 'lring2',\n",
    "    34: 'lthumb0',  35: 'lthumb1',  36: 'lthumb2',\n",
    "    37: 'rindex0',  38: 'rindex1',  39: 'rindex2',\n",
    "    40: 'rmiddle0', 41: 'rmiddle1', 42: 'rmiddle2',\n",
    "    43: 'rpinky0',  44: 'rpinky1',  45: 'rpinky2',\n",
    "    46: 'rring0',   47: 'rring1',   48: 'rring2',\n",
    "    49: 'rthumb0',  50: 'rthumb1',  51: 'rthumb2'\n",
    "}"
   ]
  },
  {
   "cell_type": "code",
   "execution_count": 26,
   "id": "ultimate-treasurer",
   "metadata": {},
   "outputs": [],
   "source": [
    "joint_name = \"f_avg_\" + SMPL_H_SKELETON[1]"
   ]
  },
  {
   "cell_type": "code",
   "execution_count": 29,
   "id": "interim-romania",
   "metadata": {},
   "outputs": [],
   "source": [
    "def RegisterJoints(joint):\n",
    "    register_command = [\n",
    "        \"{} = doc.SearchObject(\\\"{}\\\")\".format(joint,joint),\n",
    "        \"{}_rX = c4d.CTrack({}, c4d.DescID(c4d.DescLevel(c4d.ID_BASEOBJECT_REL_ROTATION, c4d.DTYPE_VECTOR, 0), c4d.DescLevel(c4d.VECTOR_X, c4d.DTYPE_REAL, 0)))\".format(joint, joint),\n",
    "        \"{}_rY = c4d.CTrack({}, c4d.DescID(c4d.DescLevel(c4d.ID_BASEOBJECT_REL_ROTATION, c4d.DTYPE_VECTOR, 0), c4d.DescLevel(c4d.VECTOR_Y, c4d.DTYPE_REAL, 0)))\".format(joint, joint),\n",
    "        \"{}_rZ = c4d.CTrack({}, c4d.DescID(c4d.DescLevel(c4d.ID_BASEOBJECT_REL_ROTATION, c4d.DTYPE_VECTOR, 0), c4d.DescLevel(c4d.VECTOR_Z, c4d.DTYPE_REAL, 0)))\".format(joint, joint),\n",
    "        \"{}_curveRX = {}_rX.GetCurve()\".format(joint, joint),\n",
    "        \"{}_curveRY = {}_rY.GetCurve()\".format(joint, joint),\n",
    "        \"{}_curveRZ = {}_rZ.GetCurve()\".format(joint, joint),\n",
    "    ]\n",
    "    \n",
    "    cc.SendCommand(\"\\n\".join(register_command))"
   ]
  },
  {
   "cell_type": "code",
   "execution_count": 30,
   "id": "colored-belarus",
   "metadata": {},
   "outputs": [],
   "source": [
    "RegisterJoints(joint_name)"
   ]
  },
  {
   "cell_type": "code",
   "execution_count": null,
   "id": "initial-threat",
   "metadata": {},
   "outputs": [],
   "source": []
  }
 ],
 "metadata": {
  "kernelspec": {
   "display_name": "Python 3",
   "language": "python",
   "name": "python3"
  },
  "language_info": {
   "codemirror_mode": {
    "name": "ipython",
    "version": 3
   },
   "file_extension": ".py",
   "mimetype": "text/x-python",
   "name": "python",
   "nbconvert_exporter": "python",
   "pygments_lexer": "ipython3",
   "version": "3.8.5"
  }
 },
 "nbformat": 4,
 "nbformat_minor": 5
}
