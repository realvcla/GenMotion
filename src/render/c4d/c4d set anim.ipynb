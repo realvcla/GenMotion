{
 "cells": [
  {
   "cell_type": "code",
   "execution_count": 1,
   "id": "false-intermediate",
   "metadata": {},
   "outputs": [],
   "source": [
    "import os\n",
    "import numpy as np\n",
    "import time\n",
    "import socket\n",
    "from tqdm.auto import tqdm"
   ]
  },
  {
   "cell_type": "code",
   "execution_count": 2,
   "id": "gentle-aside",
   "metadata": {},
   "outputs": [],
   "source": [
    "class C4DController():\n",
    "    def __init__(self, PORT = 3014):\n",
    "        # connect to Maya server\n",
    "        HOST = '127.0.0.1'  # Symbolic name meaning the local host\n",
    "        #PORT = PORT  # Arbitrary non-privileged port\n",
    "\n",
    "        ADDR = (HOST, PORT)\n",
    "\n",
    "        self.client = socket.socket(socket.AF_INET, socket.SOCK_STREAM)\n",
    "        self.client.connect(ADDR)\n",
    "\n",
    "    def SendCommand(self, command: str):\n",
    "        self.client.sendall(bytes(command, 'utf-8'))\n",
    "\n",
    "    def RegisterEvent(self):\n",
    "        self.client.sendall(bytes(\"c4d.EventAdd()\", 'utf-8'))\n",
    "\n",
    "    def SetOneKeyFrame(self, curve_name: str, frame: int, value: float):\n",
    "        # Retrieves the current time\n",
    "        self.SendCommand(\"keyTime = c4d.BaseTime({}, doc.GetFps())\".format(str(frame)))\n",
    "        self.SendCommand(\"added = {}.AddKey(keyTime)\".format(curve_name))\n",
    "        self.SendCommand(\"added[\\\"key\\\"].SetValue({}, 0)\".format(curve_name))\n",
    "        self.SendCommand(\"added[\\\"key\\\"].SetInterpolation({},c4d.CINTERPOLATION_SPLINE)\".format(curve_name))\n",
    "        self.SendCommand(\"{}.SetKeyDefault(doc, added_X[\\\"nidx\\\"])\".format(curve_name))\n",
    "        \n",
    "        # Sets the key to default status AutoTangent etc..."
   ]
  },
  {
   "cell_type": "code",
   "execution_count": 9,
   "id": "sitting-transportation",
   "metadata": {},
   "outputs": [],
   "source": [
    "cc = C4DController()"
   ]
  },
  {
   "cell_type": "code",
   "execution_count": null,
   "id": "corporate-revolution",
   "metadata": {},
   "outputs": [],
   "source": [
    "#cc.SendCommand(\"global doc\")"
   ]
  },
  {
   "cell_type": "code",
   "execution_count": null,
   "id": "steady-retrieval",
   "metadata": {},
   "outputs": [],
   "source": [
    "cc.SendCommand(\"print(keyTime.Get())\")"
   ]
  },
  {
   "cell_type": "code",
   "execution_count": null,
   "id": "accepting-version",
   "metadata": {},
   "outputs": [],
   "source": [
    "cc.SendCommand(\"root_name = \\\"f_avg_root\\\"\")"
   ]
  },
  {
   "cell_type": "code",
   "execution_count": null,
   "id": "permanent-reynolds",
   "metadata": {},
   "outputs": [],
   "source": [
    "cc.SendCommand(\"doc2 = c4d.documents.GetActiveDocument()\")"
   ]
  },
  {
   "cell_type": "code",
   "execution_count": null,
   "id": "lasting-capitol",
   "metadata": {},
   "outputs": [],
   "source": [
    "cc.SendCommand(\"c4d.documents.SetActiveDocument(doc2)\")"
   ]
  },
  {
   "cell_type": "code",
   "execution_count": null,
   "id": "balanced-royal",
   "metadata": {},
   "outputs": [],
   "source": [
    "cc.SendCommand(\"root = doc2.SearchObject(root_name)\")"
   ]
  },
  {
   "cell_type": "code",
   "execution_count": null,
   "id": "neural-excess",
   "metadata": {},
   "outputs": [],
   "source": [
    "cc.SendCommand(\"keyTime = c4d.BaseTime({}, doc.GetFps())\".format(\"10\"))"
   ]
  },
  {
   "cell_type": "code",
   "execution_count": null,
   "id": "attached-publisher",
   "metadata": {},
   "outputs": [],
   "source": [
    "cc.SendCommand(\"root_trX = c4d.CTrack(root, c4d.DescID(c4d.DescLevel(c4d.ID_BASEOBJECT_POSITION, c4d.DTYPE_VECTOR, 0), c4d.DescLevel(c4d.VECTOR_X, c4d.DTYPE_REAL, 0)))\")"
   ]
  },
  {
   "cell_type": "code",
   "execution_count": null,
   "id": "advised-electronics",
   "metadata": {},
   "outputs": [],
   "source": [
    "cc.SendCommand(\"root_trY = c4d.CTrack(root, c4d.DescID(c4d.DescLevel(c4d.ID_BASEOBJECT_POSITION, c4d.DTYPE_VECTOR, 0), c4d.DescLevel(c4d.VECTOR_Y, c4d.DTYPE_REAL, 0)))\")"
   ]
  },
  {
   "cell_type": "code",
   "execution_count": null,
   "id": "western-warner",
   "metadata": {},
   "outputs": [],
   "source": [
    "cc.SendCommand(\"root_trZ = c4d.CTrack(root, c4d.DescID(c4d.DescLevel(c4d.ID_BASEOBJECT_POSITION, c4d.DTYPE_VECTOR, 0), c4d.DescLevel(c4d.VECTOR_Z, c4d.DTYPE_REAL, 0)))\")"
   ]
  },
  {
   "cell_type": "code",
   "execution_count": null,
   "id": "manual-trail",
   "metadata": {},
   "outputs": [],
   "source": [
    "cc.SendCommand(\"e = 1{}f= 2\".format(\"\\n\"))"
   ]
  },
  {
   "cell_type": "code",
   "execution_count": null,
   "id": "concrete-stocks",
   "metadata": {},
   "outputs": [],
   "source": [
    "ll = [\"e = 5\",\"f=412\"]"
   ]
  },
  {
   "cell_type": "code",
   "execution_count": null,
   "id": "first-today",
   "metadata": {},
   "outputs": [],
   "source": [
    "cc.SendCommand(\"\\n\".join(preparation_command_0))"
   ]
  },
  {
   "cell_type": "code",
   "execution_count": 3,
   "id": "large-utilization",
   "metadata": {},
   "outputs": [],
   "source": [
    "preparation_command_0 = [\"import c4d\",\n",
    "\"# set documentation\",\n",
    "\"doc = c4d.documents.GetActiveDocument()\",\n",
    "\"root_name = \\\"f_avg_root\\\"\",\n",
    "\"root = doc.SearchObject(root_name)\",\n",
    "\"root.SetRotationOrder(5)\",\n",
    "\"# Creates the track in memory. Defined by it's DESCID    \",\n",
    "\"root_trX = c4d.CTrack(root, c4d.DescID(c4d.DescLevel(c4d.ID_BASEOBJECT_POSITION, c4d.DTYPE_VECTOR, 0), c4d.DescLevel(c4d.VECTOR_X, c4d.DTYPE_REAL, 0)))\",\n",
    "\"root_trY = c4d.CTrack(root, c4d.DescID(c4d.DescLevel(c4d.ID_BASEOBJECT_POSITION, c4d.DTYPE_VECTOR, 0), c4d.DescLevel(c4d.VECTOR_Y, c4d.DTYPE_REAL, 0)))\",\n",
    "\"root_trZ = c4d.CTrack(root, c4d.DescID(c4d.DescLevel(c4d.ID_BASEOBJECT_POSITION, c4d.DTYPE_VECTOR, 0), c4d.DescLevel(c4d.VECTOR_Z, c4d.DTYPE_REAL, 0)))\",\n",
    "\"# Creates the track in memory. Defined by it's DESCID    \",\n",
    "\"root_rX = c4d.CTrack(root, c4d.DescID(c4d.DescLevel(c4d.ID_BASEOBJECT_REL_ROTATION, c4d.DTYPE_VECTOR, 0), c4d.DescLevel(c4d.VECTOR_X, c4d.DTYPE_REAL, 0)))\",\n",
    "\"root_rY = c4d.CTrack(root, c4d.DescID(c4d.DescLevel(c4d.ID_BASEOBJECT_REL_ROTATION, c4d.DTYPE_VECTOR, 0), c4d.DescLevel(c4d.VECTOR_Y, c4d.DTYPE_REAL, 0)))\",\n",
    "\"root_rZ = c4d.CTrack(root, c4d.DescID(c4d.DescLevel(c4d.ID_BASEOBJECT_REL_ROTATION, c4d.DTYPE_VECTOR, 0), c4d.DescLevel(c4d.VECTOR_Z, c4d.DTYPE_REAL, 0)))\",\n",
    "\"# Gets Curves for the track\",\n",
    "\"root_curveX = root_trX.GetCurve()\",\n",
    "\"root_curveY = root_trY.GetCurve()\",\n",
    "\"root_curveZ = root_trZ.GetCurve()\",\n",
    "\"# Gets Curves for the track\",\n",
    "\"root_curveRX = root_rX.GetCurve()\",\n",
    "\"root_curveRY = root_rY.GetCurve()\",\n",
    "\"root_curveRZ = root_rZ.GetCurve()\"]"
   ]
  },
  {
   "cell_type": "code",
   "execution_count": 4,
   "id": "changing-tobago",
   "metadata": {},
   "outputs": [],
   "source": [
    "# Get skeleton information from https://meshcapade.wiki/SMPL#smpl-x\n",
    "SMPL_SKELETON = {\n",
    "    0: 'Pelvis',     3: 'Spine1',       6: 'Spine2',    9: 'Spine3',    12: 'Neck',     15: 'Head',\n",
    "     1: 'L_Hip',      4: 'L_Knee',       7: 'L_Ankle',  10: 'L_Foot',\n",
    "     2: 'R_Hip',      5: 'R_Knee',       8: 'R_Ankle',  11: 'R_Foot',\n",
    "    13: 'L_Collar',  16: 'L_Shoulder',  18: 'L_Elbow',  20: 'L_Wrist',\n",
    "    14: 'R_Collar',  17: 'R_Shoulder',  19: 'R_Elbow',  21: 'R_Wrist',\n",
    "    22: 'L_Hand',\n",
    "    23: 'R_Hand'\n",
    "}\n",
    "\n",
    "SMPL_H_SKELETON = {\n",
    "    0: 'Pelvis',     3: 'Spine1',       6: 'Spine2',    9: 'Spine3',    12: 'Neck',     15: 'Head',\n",
    "    1: 'L_Hip',      4: 'L_Knee',       7: 'L_Ankle',  10: 'L_Foot',\n",
    "    2: 'R_Hip',      5: 'R_Knee',       8: 'R_Ankle',  11: 'R_Foot',\n",
    "    13: 'L_Collar',  16: 'L_Shoulder',  18: 'L_Elbow',  20: 'L_Wrist',\n",
    "    14: 'R_Collar',  17: 'R_Shoulder',  19: 'R_Elbow',  21: 'R_Wrist',\n",
    "    22: 'lindex0',  23: 'lindex1',  24: 'lindex2',\n",
    "    25: 'lmiddle0', 26: 'lmiddle1', 27: 'lmiddle2',\n",
    "    28: 'lpinky0',  29: 'lpinky1',  30: 'lpinky2',\n",
    "    31: 'lring0',   32: 'lring1',   33: 'lring2',\n",
    "    34: 'lthumb0',  35: 'lthumb1',  36: 'lthumb2',\n",
    "    37: 'rindex0',  38: 'rindex1',  39: 'rindex2',\n",
    "    40: 'rmiddle0', 41: 'rmiddle1', 42: 'rmiddle2',\n",
    "    43: 'rpinky0',  44: 'rpinky1',  45: 'rpinky2',\n",
    "    46: 'rring0',   47: 'rring1',   48: 'rring2',\n",
    "    49: 'rthumb0',  50: 'rthumb1',  51: 'rthumb2'\n",
    "}"
   ]
  },
  {
   "cell_type": "code",
   "execution_count": 5,
   "id": "ultimate-treasurer",
   "metadata": {},
   "outputs": [],
   "source": [
    "joint_name = \"f_avg_\" + SMPL_H_SKELETON[1]"
   ]
  },
  {
   "cell_type": "code",
   "execution_count": 6,
   "id": "civil-trance",
   "metadata": {},
   "outputs": [
    {
     "data": {
      "text/plain": [
       "'f_avg_L_Hip'"
      ]
     },
     "execution_count": 6,
     "metadata": {},
     "output_type": "execute_result"
    }
   ],
   "source": [
    "joint_name"
   ]
  },
  {
   "cell_type": "code",
   "execution_count": 7,
   "id": "interim-romania",
   "metadata": {},
   "outputs": [],
   "source": [
    "def RegisterJoints(joint):\n",
    "    register_command = [\n",
    "        \"{} = doc.SearchObject(\\\"{}\\\")\".format(joint,joint),\n",
    "        \"{}.SetRotationOrder(5)\".format(joint),\n",
    "        \"{}_rX = c4d.CTrack({}, c4d.DescID(c4d.DescLevel(c4d.ID_BASEOBJECT_REL_ROTATION, c4d.DTYPE_VECTOR, 0), c4d.DescLevel(c4d.VECTOR_X, c4d.DTYPE_REAL, 0)))\".format(joint, joint),\n",
    "        \"{}_rY = c4d.CTrack({}, c4d.DescID(c4d.DescLevel(c4d.ID_BASEOBJECT_REL_ROTATION, c4d.DTYPE_VECTOR, 0), c4d.DescLevel(c4d.VECTOR_Y, c4d.DTYPE_REAL, 0)))\".format(joint, joint),\n",
    "        \"{}_rZ = c4d.CTrack({}, c4d.DescID(c4d.DescLevel(c4d.ID_BASEOBJECT_REL_ROTATION, c4d.DTYPE_VECTOR, 0), c4d.DescLevel(c4d.VECTOR_Z, c4d.DTYPE_REAL, 0)))\".format(joint, joint),\n",
    "        \"{}_curveRX = {}_rX.GetCurve()\".format(joint, joint),\n",
    "        \"{}_curveRY = {}_rY.GetCurve()\".format(joint, joint),\n",
    "        \"{}_curveRZ = {}_rZ.GetCurve()\".format(joint, joint),\n",
    "    ]\n",
    "    \n",
    "    cc.SendCommand(\"\\n\".join(register_command))"
   ]
  },
  {
   "cell_type": "code",
   "execution_count": 10,
   "id": "colored-belarus",
   "metadata": {},
   "outputs": [
    {
     "data": {
      "application/vnd.jupyter.widget-view+json": {
       "model_id": "82485a856951447ca39e559d531bdc99",
       "version_major": 2,
       "version_minor": 0
      },
      "text/plain": [
       "  0%|          | 0/51 [00:00<?, ?it/s]"
      ]
     },
     "metadata": {},
     "output_type": "display_data"
    }
   ],
   "source": [
    "for i in tqdm(range(1, len(SMPL_H_SKELETON))):\n",
    "    joint_name = \"f_avg_\" + SMPL_H_SKELETON[i]\n",
    "    RegisterJoints(joint_name)\n",
    "    time.sleep(0.05)"
   ]
  },
  {
   "cell_type": "code",
   "execution_count": 11,
   "id": "potential-lesson",
   "metadata": {},
   "outputs": [],
   "source": [
    "def SetOneKeyFrame(curve_name: str, frame: int, value: float):\n",
    "    # Retrieves the current time\n",
    "    frame_command = [\"keyTime = c4d.BaseTime({}, doc.GetFps())\".format(str(frame)),\n",
    "    \"added = {}.AddKey(keyTime)\".format(curve_name),\n",
    "    \"added[\\\"key\\\"].SetValue({}, {})\".format(curve_name, str(value)),\n",
    "    \"added[\\\"key\\\"].SetInterpolation({},c4d.CINTERPOLATION_SPLINE)\".format(curve_name),\n",
    "    \"{}.SetKeyDefault(doc, added[\\\"nidx\\\"])\".format(curve_name)]\n",
    "    \n",
    "    # print\n",
    "    cc.SendCommand(\"\\n\".join(frame_command))"
   ]
  },
  {
   "cell_type": "code",
   "execution_count": 12,
   "id": "fancy-argentina",
   "metadata": {},
   "outputs": [],
   "source": [
    "SetOneKeyFrame(\"root\" + \"_curveRX\", 30, 0)"
   ]
  },
  {
   "cell_type": "code",
   "execution_count": null,
   "id": "developed-marijuana",
   "metadata": {},
   "outputs": [],
   "source": [
    "cc.SendCommand(\"{}.InsertTrackSorted({}_rX)\".format(joint_name, joint_name))"
   ]
  },
  {
   "cell_type": "code",
   "execution_count": null,
   "id": "vulnerable-olympus",
   "metadata": {},
   "outputs": [],
   "source": [
    "cc.SendCommand(\"c4d.EventAdd()\")"
   ]
  },
  {
   "cell_type": "code",
   "execution_count": 13,
   "id": "sophisticated-gauge",
   "metadata": {},
   "outputs": [],
   "source": [
    "#amass_npz_fname = '../../../thirdParty/amass/support_data/github_data/amass_sample.npz' # the path to body data\n",
    "amass_npz_fname = '../../../thirdParty/accad/C2 - Run to stand_poses.npz' # the path to body data\n",
    "bdata = np.load(amass_npz_fname)"
   ]
  },
  {
   "cell_type": "code",
   "execution_count": 14,
   "id": "atlantic-humanity",
   "metadata": {},
   "outputs": [
    {
     "data": {
      "text/plain": [
       "array([ 1.54106054,  0.59912531,  0.54576866, -0.65198941, -0.19927297,\n",
       "       -0.07908039,  0.55414857, -0.19172799, -0.00372826,  0.04291578,\n",
       "        0.32047213, -0.12076745,  0.3368134 , -0.04331569, -0.11839403,\n",
       "        1.12465086,  0.11197466,  0.04326428,  0.08771633,  0.02837623,\n",
       "        0.04840781, -0.03945161,  0.14846137,  0.14807201,  0.05118354,\n",
       "       -0.05656281,  0.12596686, -0.04036598,  0.18163919, -0.002879  ,\n",
       "        0.        ,  0.        ,  0.        ,  0.        ,  0.        ,\n",
       "        0.        , -0.01366199, -0.22342897,  0.02492875,  0.02110526,\n",
       "        0.04735527, -0.16303656, -0.01276061,  0.19015719,  0.21894259,\n",
       "       -0.25376615, -0.29326656,  0.16493634,  0.33925243,  0.20912539,\n",
       "       -0.56528983,  0.05857785,  0.06295114,  0.79395729,  0.69919005,\n",
       "       -1.84615729,  0.40790663,  0.21165528,  1.57535784, -0.54417244,\n",
       "       -0.14943051, -0.06103526,  0.07610893, -0.12874111,  0.04456872,\n",
       "        0.07671561,  0.11167872,  0.04289217, -0.41644184,  0.10881133,\n",
       "       -0.06598568, -0.75622001, -0.09639297, -0.09091566, -0.18845929,\n",
       "       -0.11809504,  0.05094385, -0.5295845 , -0.14369841,  0.0552417 ,\n",
       "       -0.70485714, -0.01918292, -0.09233685, -0.33791352, -0.45703298,\n",
       "       -0.19628395, -0.62545753, -0.21465238, -0.06599829, -0.50689421,\n",
       "       -0.36972436, -0.06034463, -0.07949023, -0.14186969, -0.08585263,\n",
       "       -0.63552826, -0.30334159, -0.05788098, -0.63138921, -0.17612089,\n",
       "       -0.13209308, -0.37335458,  0.85096428,  0.27692274, -0.09154807,\n",
       "       -0.49983944,  0.02655647,  0.05288088,  0.53555915,  0.04596104,\n",
       "       -0.27735802,  0.11167872, -0.04289217,  0.41644184,  0.10881133,\n",
       "        0.06598568,  0.75622001, -0.09639297,  0.09091566,  0.18845929,\n",
       "       -0.11809504, -0.05094385,  0.5295845 , -0.14369841, -0.0552417 ,\n",
       "        0.70485714, -0.01918292,  0.09233685,  0.33791352, -0.45703298,\n",
       "        0.19628395,  0.62545753, -0.21465238,  0.06599829,  0.50689421,\n",
       "       -0.36972436,  0.06034463,  0.07949023, -0.14186969,  0.08585263,\n",
       "        0.63552826, -0.30334159,  0.05788098,  0.63138921, -0.17612089,\n",
       "        0.13209308,  0.37335458,  0.85096428, -0.27692274,  0.09154807,\n",
       "       -0.49983944, -0.02655647, -0.05288088,  0.53555915, -0.04596104,\n",
       "        0.27735802])"
      ]
     },
     "execution_count": 14,
     "metadata": {},
     "output_type": "execute_result"
    }
   ],
   "source": [
    "bdata['poses'][0]"
   ]
  },
  {
   "cell_type": "code",
   "execution_count": 15,
   "id": "extreme-return",
   "metadata": {},
   "outputs": [],
   "source": [
    "joints_info_list = SMPL_H_SKELETON\n",
    "body_data = bdata"
   ]
  },
  {
   "cell_type": "code",
   "execution_count": 19,
   "id": "assured-company",
   "metadata": {},
   "outputs": [
    {
     "data": {
      "application/vnd.jupyter.widget-view+json": {
       "model_id": "147eb2bfdaa5438fb744ccc001a0c556",
       "version_major": 2,
       "version_minor": 0
      },
      "text/plain": [
       "  0%|          | 0/21 [00:00<?, ?it/s]"
      ]
     },
     "metadata": {},
     "output_type": "display_data"
    }
   ],
   "source": [
    "for i in tqdm(range(1, 22)):\n",
    "    joint_name = \"f_avg_\" + SMPL_H_SKELETON[i]\n",
    "    for frame in range(0,11,10):\n",
    "        # get rotation from body data\n",
    "        rotateX, rotateY, rotateZ = body_data['poses'][frame][i*3:(i+1)*3]\n",
    "\n",
    "        # get joint name\n",
    "        joint_name = \"f_avg_\" + joints_info_list[i]\n",
    "        SetOneKeyFrame(joint_name + \"_curveRX\", frame, rotateX)\n",
    "        time.sleep(0.05)\n",
    "        SetOneKeyFrame(joint_name + \"_curveRY\", frame, rotateY)\n",
    "        time.sleep(0.05)\n",
    "        SetOneKeyFrame(joint_name + \"_curveRZ\", frame, -rotateZ)\n",
    "        time.sleep(0.05)\n",
    "        \n",
    "    cc.SendCommand(\"{}.InsertTrackSorted({}_rX)\".format(joint_name, joint_name))\n",
    "    time.sleep(0.05)\n",
    "    cc.SendCommand(\"{}.InsertTrackSorted({}_rY)\".format(joint_name, joint_name))\n",
    "    time.sleep(0.05)\n",
    "    cc.SendCommand(\"{}.InsertTrackSorted({}_rZ)\".format(joint_name, joint_name))\n",
    "    time.sleep(0.05)"
   ]
  },
  {
   "cell_type": "code",
   "execution_count": null,
   "id": "catholic-hundred",
   "metadata": {},
   "outputs": [],
   "source": [
    "cc.SendCommand(\"c4d.EventAdd()\")"
   ]
  },
  {
   "cell_type": "code",
   "execution_count": null,
   "id": "front-morning",
   "metadata": {},
   "outputs": [],
   "source": [
    "body_data['poses'][frame]"
   ]
  },
  {
   "cell_type": "code",
   "execution_count": 17,
   "id": "designed-veteran",
   "metadata": {},
   "outputs": [],
   "source": [
    "frame = 0"
   ]
  },
  {
   "cell_type": "code",
   "execution_count": 18,
   "id": "capable-professor",
   "metadata": {},
   "outputs": [
    {
     "data": {
      "application/vnd.jupyter.widget-view+json": {
       "model_id": "53ebaf64217d4ec7a6a61d57c73433cf",
       "version_major": 2,
       "version_minor": 0
      },
      "text/plain": [
       "  0%|          | 0/21 [00:00<?, ?it/s]"
      ]
     },
     "metadata": {},
     "output_type": "display_data"
    },
    {
     "name": "stdout",
     "output_type": "stream",
     "text": [
      "f_avg_L_Hip -37.16339617769358 -11.358559318797205 -4.507582380838112\n",
      "f_avg_R_Hip 31.58646852086978 -10.928495416081912 -0.2125105729969213\n",
      "f_avg_Spine1 2.446199282571145 18.266911432803713 -6.883744459074074\n",
      "f_avg_L_Knee 19.198363943963564 -2.4689940653315157 -6.7484595052656475\n",
      "f_avg_R_Knee 64.1050990565303 6.382555463752623 2.4660640601283674\n",
      "f_avg_Spine2 4.999830633637596 1.6174451071620526 2.7592449572132565\n",
      "f_avg_L_Ankle -2.2487419984471906 8.462298041543097 8.440104541027088\n",
      "f_avg_R_Ankle 2.9174617456602956 -3.2240799280141035 7.1801110069486676\n",
      "f_avg_Spine3 -2.3008611281771447 10.353433677877582 -0.16410287643809085\n",
      "f_avg_L_Foot 0.0 0.0 0.0\n",
      "f_avg_R_Foot 0.0 0.0 0.0\n",
      "f_avg_Neck -0.7787333457612976 -12.735451522153458 1.4209385721796866\n",
      "f_avg_L_Collar 1.2030000578736724 2.6992504905037977 -9.293084186570448\n",
      "f_avg_R_Collar -0.7273545633180499 10.838959818095445 12.479727349138695\n",
      "f_avg_Head -14.464670352731194 -16.71619384888073 9.40137124537076\n",
      "f_avg_L_Shoulder 19.33738835586455 11.92014706385584 -32.221520420547414\n",
      "f_avg_R_Shoulder 3.3389377134420037 3.5882151656236414 45.25556553045198\n",
      "f_avg_L_Elbow 39.853832759076795 -105.23096524873097 23.25067789371726\n",
      "f_avg_R_Elbow 12.06435079244983 89.79539684098445 -31.017829128453286\n",
      "f_avg_L_Wrist -8.517538799256402 -3.479009619157568 4.338209103891271\n",
      "f_avg_R_Wrist -7.338243487124205 2.540417176202383 4.372790004114546\n"
     ]
    }
   ],
   "source": [
    "for i in tqdm(range(1, 22)):\n",
    "    joint_name = \"f_avg_\" + SMPL_H_SKELETON[i]\n",
    "    rotateX, rotateY, rotateZ = body_data['poses'][frame][i*3:(i+1)*3]\n",
    "    \n",
    "    print(joint_name, rotateX * 57, rotateY * 57, rotateZ * 57)"
   ]
  },
  {
   "cell_type": "code",
   "execution_count": null,
   "id": "necessary-report",
   "metadata": {},
   "outputs": [],
   "source": []
  }
 ],
 "metadata": {
  "kernelspec": {
   "display_name": "Python 3",
   "language": "python",
   "name": "python3"
  },
  "language_info": {
   "codemirror_mode": {
    "name": "ipython",
    "version": 3
   },
   "file_extension": ".py",
   "mimetype": "text/x-python",
   "name": "python",
   "nbconvert_exporter": "python",
   "pygments_lexer": "ipython3",
   "version": "3.8.5"
  }
 },
 "nbformat": 4,
 "nbformat_minor": 5
}
