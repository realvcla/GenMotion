{
 "cells": [
  {
   "cell_type": "markdown",
   "id": "a3a72596",
   "metadata": {},
   "source": [
    "## Blender with Mixamo"
   ]
  },
  {
   "cell_type": "code",
   "execution_count": 2,
   "id": "2a673dfd",
   "metadata": {},
   "outputs": [],
   "source": [
    "import bpy"
   ]
  },
  {
   "cell_type": "code",
   "execution_count": 4,
   "id": "8e7ec27c",
   "metadata": {},
   "outputs": [
    {
     "name": "stdout",
     "output_type": "stream",
     "text": [
      "FBX Import: start importing /home/vince/Downloads/test.fbx\n",
      "FBX version: 7700\n",
      "\tFBX import: Prepare...\n",
      "\t\tDone (0.000149 sec)\n",
      "\n",
      "\tFBX import: Templates...\n",
      "\t\tDone (0.000080 sec)\n",
      "\n",
      "\tFBX import: Nodes...\n",
      "\t\tDone (0.000421 sec)\n",
      "\n",
      "\tFBX import: Connections...\n",
      "\t\tDone (0.000497 sec)\n",
      "\n",
      "\tFBX import: Meshes...\n",
      "\t\tDone (0.314680 sec)\n",
      "\n",
      "\tFBX import: Materials & Textures...\n",
      "\t\tDone (0.000652 sec)\n",
      "\n",
      "\tFBX import: Cameras & Lamps...\n",
      "\t\tDone (0.000147 sec)\n",
      "\n",
      "\tFBX import: Objects & Armatures...\n",
      "\t\tDone (0.025243 sec)\n",
      "\n",
      "\tFBX import: ShapeKeys...\n",
      "\t\tDone (0.000215 sec)\n",
      "\n",
      "\tFBX import: Animations...\n",
      "\t\tDone (0.069647 sec)\n",
      "\n",
      "\tFBX import: Assign materials...\n",
      "\t\tDone (0.000227 sec)\n",
      "\n",
      "\tFBX import: Assign textures...\n",
      "\t\tDone (0.000154 sec)\n",
      "\n",
      "\tFBX import: Cycles z-offset workaround...\n",
      "\t\tDone (0.000029 sec)\n",
      "\n",
      "\tDone (0.459809 sec)\n",
      "\n",
      "Import finished.\n"
     ]
    },
    {
     "data": {
      "text/plain": [
       "{'FINISHED'}"
      ]
     },
     "execution_count": 4,
     "metadata": {},
     "output_type": "execute_result"
    }
   ],
   "source": [
    "bpy.ops.import_scene.fbx(filepath=\"/home/vince/Downloads/test.fbx\")"
   ]
  },
  {
   "cell_type": "code",
   "execution_count": null,
   "id": "0a2c5d94",
   "metadata": {},
   "outputs": [],
   "source": []
  }
 ],
 "metadata": {
  "kernelspec": {
   "display_name": "blender",
   "language": "python",
   "name": "blender"
  },
  "language_info": {
   "codemirror_mode": {
    "name": "ipython",
    "version": 3
   },
   "file_extension": ".py",
   "mimetype": "text/x-python",
   "name": "python",
   "nbconvert_exporter": "python",
   "pygments_lexer": "ipython3",
   "version": "3.9.2"
  }
 },
 "nbformat": 4,
 "nbformat_minor": 5
}
