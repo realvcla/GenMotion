{
 "cells": [
  {
   "cell_type": "code",
   "execution_count": 1,
   "id": "abandoned-corrections",
   "metadata": {},
   "outputs": [],
   "source": [
    "from utils import *"
   ]
  },
  {
   "cell_type": "code",
   "execution_count": 2,
   "id": "swiss-reporter",
   "metadata": {},
   "outputs": [],
   "source": [
    "import os\n",
    "import numpy as np"
   ]
  },
  {
   "cell_type": "code",
   "execution_count": 3,
   "id": "floating-spokesman",
   "metadata": {},
   "outputs": [],
   "source": [
    "# Download amass data from \n",
    "\n",
    "#https://amass.is.tue.mpg.de/download.php"
   ]
  },
  {
   "cell_type": "code",
   "execution_count": 4,
   "id": "handmade-authority",
   "metadata": {},
   "outputs": [],
   "source": [
    "#amass_npz_fname = '../../../thirdParty/amass/support_data/github_data/amass_sample.npz' # the path to body data\n",
    "amass_npz_fname = '../../../thirdParty/accad/C2 - Run to stand_poses.npz' # the path to body data\n",
    "bdata = np.load(amass_npz_fname)"
   ]
  },
  {
   "cell_type": "code",
   "execution_count": 5,
   "id": "internal-permission",
   "metadata": {},
   "outputs": [],
   "source": [
    "mc = MayaController()"
   ]
  },
  {
   "cell_type": "code",
   "execution_count": 6,
   "id": "fifty-affairs",
   "metadata": {},
   "outputs": [],
   "source": [
    "# Test Maya command\n",
    "mc.SetCurrentTimeFrame(10)"
   ]
  },
  {
   "cell_type": "code",
   "execution_count": 7,
   "id": "qualified-depth",
   "metadata": {},
   "outputs": [
    {
     "name": "stdout",
     "output_type": "stream",
     "text": [
      "Data keys available:['trans', 'gender', 'mocap_framerate', 'betas', 'dmpls', 'poses']\n"
     ]
    }
   ],
   "source": [
    "print('Data keys available:%s'%list(bdata.keys()))"
   ]
  },
  {
   "cell_type": "code",
   "execution_count": 8,
   "id": "white-reward",
   "metadata": {},
   "outputs": [
    {
     "data": {
      "text/plain": [
       "array(120.)"
      ]
     },
     "execution_count": 8,
     "metadata": {},
     "output_type": "execute_result"
    }
   ],
   "source": [
    "bdata['mocap_framerate']"
   ]
  },
  {
   "cell_type": "code",
   "execution_count": 10,
   "id": "framed-handbook",
   "metadata": {},
   "outputs": [],
   "source": [
    "# Get skeleton information from https://meshcapade.wiki/SMPL#smpl-x\n",
    "SMPL_SKELETON = {\n",
    "    0: 'Pelvis',     3: 'Spine1',       6: 'Spine2',    9: 'Spine3',    12: 'Neck',     15: 'Head',\n",
    "     1: 'L_Hip',      4: 'L_Knee',       7: 'L_Ankle',  10: 'L_Foot',\n",
    "     2: 'R_Hip',      5: 'R_Knee',       8: 'R_Ankle',  11: 'R_Foot',\n",
    "    13: 'L_Collar',  16: 'L_Shoulder',  18: 'L_Elbow',  20: 'L_Wrist',\n",
    "    14: 'R_Collar',  17: 'R_Shoulder',  19: 'R_Elbow',  21: 'R_Wrist',\n",
    "    22: 'L_Hand',\n",
    "    23: 'R_Hand'\n",
    "}\n",
    "\n",
    "SMPL_H_SKELETON = {\n",
    "    0: 'Pelvis',     3: 'Spine1',       6: 'Spine2',    9: 'Spine3',    12: 'Neck',     15: 'Head',\n",
    "    1: 'L_Hip',      4: 'L_Knee',       7: 'L_Ankle',  10: 'L_Foot',\n",
    "    2: 'R_Hip',      5: 'R_Knee',       8: 'R_Ankle',  11: 'R_Foot',\n",
    "    13: 'L_Collar',  16: 'L_Shoulder',  18: 'L_Elbow',  20: 'L_Wrist',\n",
    "    14: 'R_Collar',  17: 'R_Shoulder',  19: 'R_Elbow',  21: 'R_Wrist',\n",
    "    22: 'lindex0',  23: 'lindex1',  24: 'lindex2',\n",
    "    25: 'lmiddle0', 26: 'lmiddle1', 27: 'lmiddle2',\n",
    "    28: 'lpinky0',  29: 'lpinky1',  30: 'lpinky2',\n",
    "    31: 'lring0',   32: 'lring1',   33: 'lring2',\n",
    "    34: 'lthumb0',  35: 'lthumb1',  36: 'lthumb2',\n",
    "    37: 'rindex0',  38: 'rindex1',  39: 'rindex2',\n",
    "    40: 'rmiddle0', 41: 'rmiddle1', 42: 'rmiddle2',\n",
    "    43: 'rpinky0',  44: 'rpinky1',  45: 'rpinky2',\n",
    "    46: 'rring0',   47: 'rring1',   48: 'rring2',\n",
    "    49: 'rthumb0',  50: 'rthumb1',  51: 'rthumb2'\n",
    "}"
   ]
  },
  {
   "cell_type": "code",
   "execution_count": 9,
   "id": "blind-survivor",
   "metadata": {},
   "outputs": [
    {
     "data": {
      "text/plain": [
       "52"
      ]
     },
     "execution_count": 9,
     "metadata": {},
     "output_type": "execute_result"
    }
   ],
   "source": [
    "# number of joints\n",
    "len(bdata['poses'][0]) // 3"
   ]
  },
  {
   "cell_type": "code",
   "execution_count": 11,
   "id": "confirmed-number",
   "metadata": {},
   "outputs": [
    {
     "data": {
      "text/plain": [
       "(639, 3)"
      ]
     },
     "execution_count": 11,
     "metadata": {},
     "output_type": "execute_result"
    }
   ],
   "source": [
    "bdata['trans'].shape # frame , (x,y,z)"
   ]
  },
  {
   "cell_type": "code",
   "execution_count": null,
   "id": "revised-aggregate",
   "metadata": {},
   "outputs": [],
   "source": [
    "# Debug only\n",
    "#root_rotation =  bdata['poses'][0][0:3]\n",
    "# root_translate = -bdata['trans'][0]\n",
    "# joint_root = \"f_avg_root\"\n",
    "# mc.SetObjectLocalRotation(joint_root, root_rotation)\n",
    "# mc.SetObjectWorldTransform(joint_root, root_translate)\n",
    "\n",
    "# root_translate\n",
    "\n",
    "# for i in range(1,22):\n",
    "#     rotation = np.rad2deg(bdata['poses'][0][i*3:(i+1)*3])\n",
    "#     joint_name = \"f_avg_\" + SMPL_SKELETON[i]\n",
    "#     print(joint_name,rotation)\n",
    "#     mc.SetObjectLocalRotation(joint_name, rotation)\n",
    "#     #break\n",
    "\n",
    "#  translateX,translateY,translateZ = bdata['trans'][1]"
   ]
  },
  {
   "cell_type": "code",
   "execution_count": 12,
   "id": "center-martial",
   "metadata": {},
   "outputs": [],
   "source": [
    "def SetOneFrame(frame, body_data, joints_info_list: list):\n",
    "    '''\n",
    "    Validation:\n",
    "    Set one maya frame from load data\n",
    "    :param frame: int\n",
    "    :param body_data: array\n",
    "    :param joints_info_list: list\n",
    "    :return:\n",
    "    '''\n",
    "    #  set current time frame\n",
    "    mc.SetCurrentTimeFrame(frame)\n",
    "\n",
    "    for i in range(0,len(joints_info_list)):\n",
    "        # get rotation from body data\n",
    "        rotateX, rotateY, rotateZ = np.rad2deg(body_data['poses'][frame][i*3:(i+1)*3])\n",
    "        \n",
    "        # get joint name\n",
    "        joint_name = \"f_avg_\" + joints_info_list[i]\n",
    "        \n",
    "        # if i == 0, set root translation\n",
    "        if i == 0:\n",
    "            joint_name = \"f_avg_root\"\n",
    "            translateX,translateY,translateZ = body_data['trans'][frame]\n",
    "            mc.SetObjectAttribute(joint_name, \"translateX\", translateX)\n",
    "            mc.SetObjectAttribute(joint_name, \"translateY\", translateY)\n",
    "            mc.SetObjectAttribute(joint_name, \"translateZ\", translateZ)\n",
    "            \n",
    "        # set rotation for joints\n",
    "        mc.SetObjectAttribute(joint_name, \"rotateX\", rotateX)\n",
    "        mc.SetObjectAttribute(joint_name, \"rotateY\", rotateY)\n",
    "        mc.SetObjectAttribute(joint_name, \"rotateZ\", rotateZ)\n",
    "        \n",
    "        mc.SetCurrentKeyFrameForPositionAndRotation(joint_name)\n",
    "        #break"
   ]
  },
  {
   "cell_type": "code",
   "execution_count": 13,
   "id": "searching-reviewer",
   "metadata": {},
   "outputs": [],
   "source": [
    "from tqdm.auto import tqdm"
   ]
  },
  {
   "cell_type": "code",
   "execution_count": 14,
   "id": "complete-pulse",
   "metadata": {},
   "outputs": [
    {
     "data": {
      "application/vnd.jupyter.widget-view+json": {
       "model_id": "8943c411fe8d42eb9c060d118d89c6b6",
       "version_major": 2,
       "version_minor": 0
      },
      "text/plain": [
       "  0%|          | 0/64 [00:00<?, ?it/s]"
      ]
     },
     "metadata": {},
     "output_type": "display_data"
    }
   ],
   "source": [
    "for frame in tqdm(range(0, len(bdata[\"poses\"]), 10)):\n",
    "    SetOneFrame(frame, bdata, SMPL_H_SKELETON)"
   ]
  },
  {
   "cell_type": "code",
   "execution_count": null,
   "id": "seasonal-croatia",
   "metadata": {},
   "outputs": [],
   "source": [
    "mc.UndoToBeginning(10000)"
   ]
  },
  {
   "cell_type": "code",
   "execution_count": null,
   "id": "latin-color",
   "metadata": {},
   "outputs": [],
   "source": []
  }
 ],
 "metadata": {
  "kernelspec": {
   "display_name": "Python 3",
   "language": "python",
   "name": "python3"
  },
  "language_info": {
   "codemirror_mode": {
    "name": "ipython",
    "version": 3
   },
   "file_extension": ".py",
   "mimetype": "text/x-python",
   "name": "python",
   "nbconvert_exporter": "python",
   "pygments_lexer": "ipython3",
   "version": "3.8.5"
  }
 },
 "nbformat": 4,
 "nbformat_minor": 5
}
