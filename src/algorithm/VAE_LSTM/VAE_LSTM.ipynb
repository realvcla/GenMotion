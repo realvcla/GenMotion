{
 "cells": [
  {
   "cell_type": "markdown",
   "id": "dfe90a90",
   "metadata": {},
   "source": [
    "# VAE_LSTM with AMASS"
   ]
  },
  {
   "cell_type": "markdown",
   "id": "f4e85257",
   "metadata": {},
   "source": [
    "## Setup\n",
    "\n",
    "1. Get the raw files\n",
    "2. Open this tutorial"
   ]
  },
  {
   "cell_type": "code",
   "execution_count": 1,
   "id": "f8152cca",
   "metadata": {},
   "outputs": [],
   "source": [
    "import os\n",
    "import numpy as np\n",
    "import torch\n",
    "from torch.utils.data import DataLoader\n",
    "from VAE_LSTM import VAE_LSTM, MotionDataset"
   ]
  },
  {
   "cell_type": "code",
   "execution_count": 2,
   "metadata": {},
   "outputs": [],
   "source": [
    "def fetch_amass(root_dir: str):\n",
    "    data_lst = []\n",
    "    for r, d, f in os.walk(root_dir):\n",
    "        if d == []:\n",
    "            for file in f:\n",
    "                data_lst.append(r + \"/\" + file)\n",
    "    return data_lst\n",
    "\n",
    "def transform(sample):\n",
    "    transformed_sample = {}\n",
    "    for field in [\"trans\", \"poses\", \"root_orient\"]:\n",
    "        transformed_sample[field] = np.swapaxes(sample[field][:60], 0,1) # cut to 7200 frame\n",
    "    return transformed_sample"
   ]
  },
  {
   "cell_type": "code",
   "execution_count": 3,
   "id": "94bfcc8f",
   "metadata": {},
   "outputs": [],
   "source": [
    "AMASS_Dataset = MotionDataset(\"/home/vince/Downloads/HDM05\", fetch=fetch_amass, transform=transform)\n",
    "amass_dataloader = DataLoader(AMASS_Dataset, batch_size=20, shuffle=True, num_workers=0)"
   ]
  },
  {
   "cell_type": "code",
   "execution_count": 4,
   "id": "ea3118ee",
   "metadata": {},
   "outputs": [],
   "source": [
    "model = VAE_LSTM(joint_size=57, input_frame=60)"
   ]
  },
  {
   "cell_type": "code",
   "execution_count": 5,
   "id": "393a7ea1",
   "metadata": {},
   "outputs": [
    {
     "data": {
      "image/png": "[encoded data removed]",
      "text/plain": [
       "<Figure size 432x288 with 1 Axes>"
      ]
     },
     "metadata": {
      "needs_background": "light"
     },
     "output_type": "display_data"
    },
    {
     "name": "stderr",
     "output_type": "stream",
     "text": [
      "100%|██████████| 10/10 [00:17<00:00,  1.74s/it]"
     ]
    },
    {
     "name": "stdout",
     "output_type": "stream",
     "text": [
      "Final loss: 30.578250885009766\n"
     ]
    },
    {
     "name": "stderr",
     "output_type": "stream",
     "text": [
      "\n"
     ]
    }
   ],
   "source": [
    "model.train(lr=1e-5, num_epochs=100, train_loader=amass_dataloader)"
   ]
  },
  {
   "cell_type": "code",
   "execution_count": null,
   "metadata": {},
   "outputs": [],
   "source": [
    "torch.save(model.state_dict(), \"/home/vince/Downloads/VAE_LSTM.pt\")"
   ]
  }
 ],
 "metadata": {
  "interpreter": {
   "hash": "c1d73969f50db983698931fcf6b10a303ac12ca6e9c35da5dea1c9b6852892a8"
  },
  "kernelspec": {
   "display_name": "Python 3.9.7 64-bit ('genmotion': conda)",
   "name": "python3"
  },
  "language_info": {
   "codemirror_mode": {
    "name": "ipython",
    "version": 3
   },
   "file_extension": ".py",
   "mimetype": "text/x-python",
   "name": "python",
   "nbconvert_exporter": "python",
   "pygments_lexer": "ipython3",
   "version": "3.9.7"
  }
 },
 "nbformat": 4,
 "nbformat_minor": 5
}
