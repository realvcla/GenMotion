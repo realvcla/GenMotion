{
 "cells": [
  {
   "cell_type": "code",
   "execution_count": null,
   "id": "f8bda1a3",
   "metadata": {},
   "outputs": [],
   "source": [
    "# 1. Load hyper parameters\n",
    "opt = vars(HDM05Params())  # from algorithm.encoder_recurrent_decoder.params import HDM05Params\n",
    "# 2. Load dataset\n",
    "dataset = HDM05Dataset(data_path, opt)  # from dataset.hdm05.hdm05_data_utils import HDM05Dataset\n",
    "# 3. Load model/architecture\n",
    "model = EncoderRecurrentDecoder(opt) # from algorithm.encoder_recurrent_decoder.models import EncoderRecurrentDecoder\n",
    "# 4. Train model \n",
    "trainer = HDM05Trainer(dataset, model, opt, device) # from algorithm.encoder_recurrent_decoder.trainer import HDM05Trainer\n",
    "# 5. Sample animation\n",
    "sampler = HDM05Sampler(save_path, opt, device) # from algorithm.encoder_recurrent_decoder.sampler import HDM05Sampler\n",
    "sampler.sample(input_motion) \n"
   ]
  }
 ],
 "metadata": {
  "kernelspec": {
   "display_name": "Python 3",
   "language": "python",
   "name": "python3"
  },
  "language_info": {
   "codemirror_mode": {
    "name": "ipython",
    "version": 3
   },
   "file_extension": ".py",
   "mimetype": "text/x-python",
   "name": "python",
   "nbconvert_exporter": "python",
   "pygments_lexer": "ipython3",
   "version": "3.8.5"
  }
 },
 "nbformat": 4,
 "nbformat_minor": 5
}
