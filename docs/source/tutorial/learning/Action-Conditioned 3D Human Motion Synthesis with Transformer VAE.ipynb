{
 "cells": [
  {
   "cell_type": "markdown",
   "id": "69051f9e",
   "metadata": {},
   "source": [
    "# Action-Conditioned 3D Human Motion Synthesis with Transformer VAE (ACTOR)\n",
    "\n",
    "ACTOR learns an action-aware latent representation for human motions by training a generative variational autoencoder (VAE). By sampling from this latent space and querying a certain duration through a series of positional encodings, ACTOR synthesizes variable-length motion sequences conditioned on a categorical action. Specifically, a Transformer-based architecture is designed, for encoding and decoding a sequence of parametric SMPL human body models estimated from action recognition datasets. "
   ]
  },
  {
   "cell_type": "markdown",
   "id": "06f9605a",
   "metadata": {},
   "source": [
    "## Dataset\n",
    "\n",
    "To get the pre-process the dataset, please refer to the this [Github repository](https://github.com/Mathux/ACTOR) and agree to the license. There following code shows examples from `HumanAct12` dataset."
   ]
  },
  {
   "cell_type": "code",
   "execution_count": 1,
   "id": "33ad3b66",
   "metadata": {},
   "outputs": [],
   "source": [
    "# Set data path\n",
    "datapath = \"F://research/ACTOR/data/HumanAct12Poses/\""
   ]
  },
  {
   "cell_type": "code",
   "execution_count": 2,
   "id": "9e0812f4",
   "metadata": {},
   "outputs": [
    {
     "data": {
      "text/plain": [
       "'E:\\\\researches\\\\GenMotion\\\\src'"
      ]
     },
     "execution_count": 2,
     "metadata": {},
     "output_type": "execute_result"
    }
   ],
   "source": [
    "# change the working directory to the source code folder\n",
    "import os\n",
    "os.chdir(\"../../../../src\")\n",
    "os.getcwd()"
   ]
  },
  {
   "cell_type": "markdown",
   "id": "617d2c26",
   "metadata": {},
   "source": [
    "## Training"
   ]
  },
  {
   "cell_type": "code",
   "execution_count": 3,
   "id": "2123e214",
   "metadata": {},
   "outputs": [],
   "source": [
    "import torch"
   ]
  },
  {
   "cell_type": "code",
   "execution_count": 4,
   "id": "f69c9693",
   "metadata": {},
   "outputs": [],
   "source": [
    "from algorithm.action_conditioned.params import HumanAct12Params\n",
    "from algorithm.action_conditioned.data_utils import get_datasets\n",
    "\n",
    "from algorithm.action_conditioned.utils.tensors import collate"
   ]
  },
  {
   "cell_type": "code",
   "execution_count": 5,
   "id": "58c3d634",
   "metadata": {},
   "outputs": [],
   "source": [
    "# load parameters\n",
    "parameters = vars(HumanAct12Params())"
   ]
  },
  {
   "cell_type": "code",
   "execution_count": 6,
   "id": "58d8a637",
   "metadata": {},
   "outputs": [
    {
     "name": "stdout",
     "output_type": "stream",
     "text": [
      "dataset length:  {'train': 1190, 'test': 1190}\n"
     ]
    }
   ],
   "source": [
    "# get datasets\n",
    "datasets = get_datasets(datapath, parameters)\n",
    "print(\"dataset length: \", {key: len(val) for key, val in datasets.items()})"
   ]
  },
  {
   "cell_type": "code",
   "execution_count": 7,
   "id": "ea40e0ec",
   "metadata": {},
   "outputs": [],
   "source": [
    "# load model\n",
    "assert parameters[\"modeltype\"] == 'cvae'\n",
    "assert parameters[\"archiname\"] == \"transformer\"\n",
    "\n",
    "from algorithm.action_conditioned.models.architectures.transformer import Encoder_TRANSFORMER, Decoder_TRANSFORMER\n",
    "from algorithm.action_conditioned.models.modeltype.cvae import CVAE\n",
    "\n",
    "encoder = Encoder_TRANSFORMER(**parameters)\n",
    "decoder = Decoder_TRANSFORMER(**parameters)\n",
    "\n",
    "parameters[\"outputxyz\"] = \"rcxyz\" in parameters[\"lambdas\"]"
   ]
  },
  {
   "cell_type": "code",
   "execution_count": 8,
   "id": "c9aa766c",
   "metadata": {},
   "outputs": [],
   "source": [
    "model = CVAE(encoder, decoder, **parameters).to(parameters[\"device\"])"
   ]
  },
  {
   "cell_type": "code",
   "execution_count": 9,
   "id": "28856139",
   "metadata": {},
   "outputs": [
    {
     "name": "stdout",
     "output_type": "stream",
     "text": [
      "Total params: 14.83M\n"
     ]
    }
   ],
   "source": [
    "# optimizer\n",
    "optimizer = torch.optim.AdamW(model.parameters(), lr=parameters[\"lr\"])\n",
    "print('Total params: %.2fM' % (sum(p.numel() for p in model.parameters()) / 1000000.0))\n",
    "# print(\"Training model..\")"
   ]
  },
  {
   "cell_type": "code",
   "execution_count": 10,
   "id": "1a9fefc5",
   "metadata": {},
   "outputs": [],
   "source": [
    "dataset = datasets[\"train\"]\n",
    "train_iterator = torch.utils.data.DataLoader(dataset, batch_size=parameters[\"batch_size\"], \n",
    "                                             shuffle=True, num_workers=8, collate_fn=collate)"
   ]
  },
  {
   "cell_type": "code",
   "execution_count": 11,
   "id": "65013c55",
   "metadata": {
    "scrolled": true
   },
   "outputs": [],
   "source": [
    "from algorithm.action_conditioned.trainer import train"
   ]
  },
  {
   "cell_type": "code",
   "execution_count": 12,
   "id": "b5ea9931",
   "metadata": {},
   "outputs": [
    {
     "data": {
      "text/plain": [
       "device(type='cuda')"
      ]
     },
     "execution_count": 12,
     "metadata": {},
     "output_type": "execute_result"
    }
   ],
   "source": [
    "model.device"
   ]
  },
  {
   "cell_type": "code",
   "execution_count": null,
   "id": "bbf6f65f",
   "metadata": {},
   "outputs": [
    {
     "name": "stderr",
     "output_type": "stream",
     "text": [
      "Computing batch: 16it [00:07,  2.37it/s]"
     ]
    }
   ],
   "source": [
    "dict_loss = train(model, optimizer, train_iterator, model.device)"
   ]
  },
  {
   "cell_type": "code",
   "execution_count": null,
   "id": "0f2366a4",
   "metadata": {},
   "outputs": [],
   "source": []
  }
 ],
 "metadata": {
  "kernelspec": {
   "display_name": "Python 3",
   "language": "python",
   "name": "python3"
  },
  "language_info": {
   "codemirror_mode": {
    "name": "ipython",
    "version": 3
   },
   "file_extension": ".py",
   "mimetype": "text/x-python",
   "name": "python",
   "nbconvert_exporter": "python",
   "pygments_lexer": "ipython3",
   "version": "3.8.5"
  }
 },
 "nbformat": 4,
 "nbformat_minor": 5
}
