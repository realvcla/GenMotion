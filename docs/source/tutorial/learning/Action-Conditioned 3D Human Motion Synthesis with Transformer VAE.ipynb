{
 "cells": [
  {
   "cell_type": "markdown",
   "id": "4bb9aba5",
   "metadata": {},
   "source": [
    "# Tutorial: Action-Conditioned 3D Human Motion Synthesis with Transformer VAE (ACTOR)\n",
    "\n",
    "ACTOR learns an action-aware latent representation for human motions by training a generative variational autoencoder (VAE). By sampling from this latent space and querying a certain duration through a series of positional encodings, ACTOR synthesizes variable-length motion sequences conditioned on a categorical action. Specifically, a Transformer-based architecture is designed, for encoding and decoding a sequence of parametric SMPL human body models estimated from action recognition datasets. "
   ]
  },
  {
   "cell_type": "markdown",
   "id": "4c57b39e",
   "metadata": {},
   "source": [
    "## Dataset for ACTOR\n",
    "\n",
    "To get the pre-process the dataset, please refer to the this [Github repository](https://github.com/Mathux/ACTOR) and agree to the license. There following code shows examples from `HumanAct12` dataset."
   ]
  },
  {
   "cell_type": "code",
   "execution_count": 1,
   "id": "480c91a0",
   "metadata": {},
   "outputs": [],
   "source": [
    "# Set data path\n",
    "# datapath = \"F://research/ACTOR/data/HumanAct12Poses/\"\n",
    "datapath = \"E://researches/GenMotion/thirdParty/HumanAct12Poses/\""
   ]
  },
  {
   "cell_type": "code",
   "execution_count": 2,
   "id": "f957ef14",
   "metadata": {},
   "outputs": [],
   "source": [
    "import torch\n",
    "import os"
   ]
  },
  {
   "cell_type": "code",
   "execution_count": 3,
   "id": "c0a0b256",
   "metadata": {},
   "outputs": [],
   "source": [
    "from genmotion.algorithm.action_conditioned.params import HumanAct12Params\n",
    "from genmotion.algorithm.action_conditioned.data_utils import get_datasets\n",
    "\n",
    "from genmotion.algorithm.action_conditioned.utils.tensors import collate"
   ]
  },
  {
   "cell_type": "markdown",
   "id": "ccfd6872",
   "metadata": {},
   "source": [
    "## Training ACTOR"
   ]
  },
  {
   "cell_type": "code",
   "execution_count": null,
   "id": "279700c7",
   "metadata": {},
   "outputs": [],
   "source": [
    "# load parameters\n",
    "parameters = vars(HumanAct12Params())"
   ]
  },
  {
   "cell_type": "code",
   "execution_count": null,
   "id": "752c8c52",
   "metadata": {},
   "outputs": [],
   "source": [
    "# get datasets\n",
    "datasets = get_datasets(datapath, parameters)\n",
    "print(\"dataset length: \", {key: len(val) for key, val in datasets.items()})"
   ]
  },
  {
   "cell_type": "code",
   "execution_count": null,
   "id": "8f6921a5",
   "metadata": {},
   "outputs": [],
   "source": [
    "# load model\n",
    "assert parameters[\"modeltype\"] == 'cvae'\n",
    "assert parameters[\"archiname\"] == \"transformer\"\n",
    "\n",
    "from genmotion.algorithm.action_conditioned.models.architectures.transformer import Encoder_TRANSFORMER, Decoder_TRANSFORMER\n",
    "from genmotion.algorithm.action_conditioned.models.modeltype.cvae import CVAE\n",
    "\n",
    "encoder = Encoder_TRANSFORMER(**parameters)\n",
    "decoder = Decoder_TRANSFORMER(**parameters)\n",
    "\n",
    "parameters[\"outputxyz\"] = \"rcxyz\" in parameters[\"lambdas\"]\n",
    "\n",
    "model = CVAE(encoder, decoder, **parameters).to(parameters[\"device\"])"
   ]
  },
  {
   "cell_type": "code",
   "execution_count": null,
   "id": "fe3c6b69",
   "metadata": {},
   "outputs": [],
   "source": [
    "# optimizer\n",
    "optimizer = torch.optim.AdamW(model.parameters(), lr=parameters[\"lr\"])\n",
    "print('Total params: %.2fM' % (sum(p.numel() for p in model.parameters()) / 1000000.0))\n",
    "# print(\"Training model..\")"
   ]
  },
  {
   "cell_type": "code",
   "execution_count": null,
   "id": "24ebacff",
   "metadata": {},
   "outputs": [],
   "source": [
    "dataset = datasets[\"train\"]\n",
    "train_iterator = torch.utils.data.DataLoader(dataset, batch_size=parameters[\"batch_size\"], \n",
    "                                             shuffle=True, num_workers=8, collate_fn=collate)"
   ]
  },
  {
   "cell_type": "code",
   "execution_count": null,
   "id": "eb587f02",
   "metadata": {
    "scrolled": true
   },
   "outputs": [],
   "source": [
    "from genmotion.algorithm.action_conditioned.trainer import train"
   ]
  },
  {
   "cell_type": "code",
   "execution_count": null,
   "id": "c2e3a576",
   "metadata": {},
   "outputs": [],
   "source": [
    "model.device"
   ]
  },
  {
   "cell_type": "code",
   "execution_count": null,
   "id": "c3786f6f",
   "metadata": {},
   "outputs": [],
   "source": [
    "epochs = 1 # total number of training epochs"
   ]
  },
  {
   "cell_type": "code",
   "execution_count": null,
   "id": "7c8d895a",
   "metadata": {},
   "outputs": [],
   "source": [
    "# for epoch in range(epochs):\n",
    "#     dict_loss = train(model, optimizer, train_iterator, model.device)\n",
    "    \n",
    "#     for key in dict_loss.keys():\n",
    "#         dict_loss[key] /= len(train_iterator)\n",
    "#         print(f\"Loss/{key}\", dict_loss[key], \"f{epoch}\")"
   ]
  },
  {
   "cell_type": "markdown",
   "id": "f46dd48e",
   "metadata": {},
   "source": [
    "## Sample ACTOR"
   ]
  },
  {
   "cell_type": "code",
   "execution_count": 5,
   "id": "cfdd1b23",
   "metadata": {},
   "outputs": [],
   "source": [
    "# load parameters\n",
    "parameters = vars(HumanAct12Params(mode=\"sample\"))"
   ]
  },
  {
   "cell_type": "code",
   "execution_count": 6,
   "id": "53d995c9",
   "metadata": {},
   "outputs": [],
   "source": [
    "# load model\n",
    "assert parameters[\"modeltype\"] == 'cvae'\n",
    "assert parameters[\"archiname\"] == \"transformer\"\n",
    "\n",
    "from genmotion.algorithm.action_conditioned.models.architectures.transformer import Encoder_TRANSFORMER, Decoder_TRANSFORMER\n",
    "from genmotion.algorithm.action_conditioned.models.modeltype.cvae import CVAE\n",
    "\n",
    "encoder = Encoder_TRANSFORMER(**parameters)\n",
    "decoder = Decoder_TRANSFORMER(**parameters)\n",
    "\n",
    "parameters[\"outputxyz\"] = \"rcxyz\" in parameters[\"lambdas\"]\n",
    "\n",
    "model = CVAE(encoder, decoder, **parameters).to(parameters[\"device\"])"
   ]
  },
  {
   "cell_type": "code",
   "execution_count": 7,
   "id": "be2ee3c4",
   "metadata": {},
   "outputs": [],
   "source": [
    "folder = \"../pretrained/action_conditioned/humanact12/\"\n",
    "checkpointname = \"checkpoint_5000.pth.tar\""
   ]
  },
  {
   "cell_type": "code",
   "execution_count": 8,
   "id": "8d8e84bc",
   "metadata": {},
   "outputs": [
    {
     "name": "stdout",
     "output_type": "stream",
     "text": [
      "Restore weights..\n"
     ]
    },
    {
     "data": {
      "text/plain": [
       "<All keys matched successfully>"
      ]
     },
     "execution_count": 8,
     "metadata": {},
     "output_type": "execute_result"
    }
   ],
   "source": [
    "print(\"Restore weights..\")\n",
    "checkpointpath = os.path.join(folder, checkpointname)\n",
    "state_dict = torch.load(checkpointpath, map_location=parameters[\"device\"])\n",
    "model.load_state_dict(state_dict)"
   ]
  },
  {
   "cell_type": "code",
   "execution_count": 9,
   "id": "c7e3fd94",
   "metadata": {},
   "outputs": [],
   "source": [
    "num_classes = parameters[\"num_classes\"]\n",
    "classes = torch.arange(num_classes)"
   ]
  },
  {
   "cell_type": "code",
   "execution_count": 10,
   "id": "0dc7715d",
   "metadata": {},
   "outputs": [],
   "source": [
    "gendurations = torch.tensor([parameters[\"num_frames\"] for cl in classes], dtype=int)"
   ]
  },
  {
   "cell_type": "code",
   "execution_count": 11,
   "id": "a3899f3b",
   "metadata": {},
   "outputs": [],
   "source": [
    "noise_same_action = \"interpolate\"\n",
    "noise_diff_action = \"random\"\n",
    "# noise_same_action = \"random\""
   ]
  },
  {
   "cell_type": "code",
   "execution_count": 12,
   "id": "09be345d",
   "metadata": {},
   "outputs": [
    {
     "data": {
      "text/plain": [
       "device(type='cuda')"
      ]
     },
     "execution_count": 12,
     "metadata": {},
     "output_type": "execute_result"
    }
   ],
   "source": [
    "model.device"
   ]
  },
  {
   "cell_type": "code",
   "execution_count": 14,
   "id": "4868ad05",
   "metadata": {},
   "outputs": [
    {
     "data": {
      "text/plain": [
       "10"
      ]
     },
     "execution_count": 14,
     "metadata": {},
     "output_type": "execute_result"
    }
   ],
   "source": [
    "parameters[\"num_samples_per_action\"]"
   ]
  },
  {
   "cell_type": "code",
   "execution_count": 15,
   "id": "e820e129",
   "metadata": {},
   "outputs": [],
   "source": [
    "# Generate the new data\n",
    "generation = model.generate(classes, gendurations, nspa=2,\n",
    "                            noise_same_action=noise_same_action,\n",
    "                            noise_diff_action=noise_diff_action,\n",
    "                            fact=parameters[\"fact_latent\"])"
   ]
  },
  {
   "cell_type": "code",
   "execution_count": 20,
   "id": "76cd299a",
   "metadata": {},
   "outputs": [
    {
     "data": {
      "text/plain": [
       "torch.Size([24, 24, 3, 60])"
      ]
     },
     "execution_count": 20,
     "metadata": {},
     "output_type": "execute_result"
    }
   ],
   "source": [
    "generation[\n",
    "    'output_xyz'\n",
    "].shape"
   ]
  }
 ],
 "metadata": {
  "kernelspec": {
   "display_name": "Python 3",
   "language": "python",
   "name": "python3"
  },
  "language_info": {
   "codemirror_mode": {
    "name": "ipython",
    "version": 3
   },
   "file_extension": ".py",
   "mimetype": "text/x-python",
   "name": "python",
   "nbconvert_exporter": "python",
   "pygments_lexer": "ipython3",
   "version": "3.9.7"
  }
 },
 "nbformat": 4,
 "nbformat_minor": 5
}
