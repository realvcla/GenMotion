{
 "cells": [
  {
   "cell_type": "markdown",
   "id": "54bac79c",
   "metadata": {},
   "source": [
    "# Action-Conditioned 3D Human Motion Synthesis with Transformer VAE (ACTOR)\n",
    "\n",
    "ACTOR learns an action-aware latent representation for human motions by training a generative variational autoencoder (VAE). By sampling from this latent space and querying a certain duration through a series of positional encodings, ACTOR synthesizes variable-length motion sequences conditioned on a categorical action. Specifically, a Transformer-based architecture is designed, for encoding and decoding a sequence of parametric SMPL human body models estimated from action recognition datasets. "
   ]
  },
  {
   "cell_type": "markdown",
   "id": "32c105a5",
   "metadata": {},
   "source": [
    "## Dataset\n",
    "\n",
    "To get the pre-process the dataset, please refer to the this [Github repository](https://github.com/Mathux/ACTOR) and agree to the license. There following code shows examples from `HumanAct12` dataset."
   ]
  },
  {
   "cell_type": "code",
   "execution_count": 1,
   "id": "cabdde1f",
   "metadata": {},
   "outputs": [],
   "source": [
    "# Set data path\n",
    "datapath = \"F://research/ACTOR/data/HumanAct12Poses/\""
   ]
  },
  {
   "cell_type": "code",
   "execution_count": 2,
   "id": "1d48cf8d",
   "metadata": {},
   "outputs": [
    {
     "data": {
      "text/plain": [
       "'E:\\\\researches\\\\GenMotion\\\\src'"
      ]
     },
     "execution_count": 2,
     "metadata": {},
     "output_type": "execute_result"
    }
   ],
   "source": [
    "# change the working directory to the source code folder\n",
    "import os\n",
    "os.chdir(\"../../../../src\")\n",
    "os.getcwd()"
   ]
  },
  {
   "cell_type": "markdown",
   "id": "724232af",
   "metadata": {},
   "source": [
    "## Training"
   ]
  },
  {
   "cell_type": "code",
   "execution_count": 3,
   "id": "4a9ad402",
   "metadata": {},
   "outputs": [],
   "source": [
    "from algorithm.action_conditioned.params import HumanAct12Params\n",
    "from algorithm.action_conditioned.datasets.humanact12poses import HumanAct12Poses"
   ]
  },
  {
   "cell_type": "code",
   "execution_count": 4,
   "id": "dceb647f",
   "metadata": {},
   "outputs": [],
   "source": [
    "# load parameters\n",
    "parameters = vars(HumanAct12Params())"
   ]
  },
  {
   "cell_type": "code",
   "execution_count": 5,
   "id": "372ac2ff",
   "metadata": {},
   "outputs": [
    {
     "name": "stdout",
     "output_type": "stream",
     "text": [
      "dataset length:  1190\n"
     ]
    }
   ],
   "source": [
    "# get datasets\n",
    "datasets = HumanAct12Poses(split=\"train\", datapath=datapath, **parameters)\n",
    "print(\"dataset length: \", len(datasets))"
   ]
  },
  {
   "cell_type": "code",
   "execution_count": 8,
   "id": "98d2bd74",
   "metadata": {},
   "outputs": [
    {
     "ename": "TypeError",
     "evalue": "__init__() missing 3 required positional arguments: 'njoints', 'nfeats', and 'num_classes'",
     "output_type": "error",
     "traceback": [
      "\u001b[1;31m---------------------------------------------------------------------------\u001b[0m",
      "\u001b[1;31mTypeError\u001b[0m                                 Traceback (most recent call last)",
      "\u001b[1;32m<ipython-input-8-c37f346273c0>\u001b[0m in \u001b[0;36m<module>\u001b[1;34m\u001b[0m\n\u001b[0;32m      6\u001b[0m \u001b[1;32mfrom\u001b[0m \u001b[0malgorithm\u001b[0m\u001b[1;33m.\u001b[0m\u001b[0maction_conditioned\u001b[0m\u001b[1;33m.\u001b[0m\u001b[0mmodels\u001b[0m\u001b[1;33m.\u001b[0m\u001b[0mmodeltype\u001b[0m\u001b[1;33m.\u001b[0m\u001b[0mcvae\u001b[0m \u001b[1;32mimport\u001b[0m \u001b[0mCVAE\u001b[0m\u001b[1;33m\u001b[0m\u001b[1;33m\u001b[0m\u001b[0m\n\u001b[0;32m      7\u001b[0m \u001b[1;33m\u001b[0m\u001b[0m\n\u001b[1;32m----> 8\u001b[1;33m \u001b[0mencoder\u001b[0m \u001b[1;33m=\u001b[0m \u001b[0mEncoder_TRANSFORMER\u001b[0m\u001b[1;33m(\u001b[0m\u001b[1;33m**\u001b[0m\u001b[0mparameters\u001b[0m\u001b[1;33m)\u001b[0m\u001b[1;33m\u001b[0m\u001b[1;33m\u001b[0m\u001b[0m\n\u001b[0m\u001b[0;32m      9\u001b[0m \u001b[0mdecoder\u001b[0m \u001b[1;33m=\u001b[0m \u001b[0mDecoder_TRANSFORMER\u001b[0m\u001b[1;33m(\u001b[0m\u001b[1;33m**\u001b[0m\u001b[0mparameters\u001b[0m\u001b[1;33m)\u001b[0m\u001b[1;33m\u001b[0m\u001b[1;33m\u001b[0m\u001b[0m\n\u001b[0;32m     10\u001b[0m \u001b[1;33m\u001b[0m\u001b[0m\n",
      "\u001b[1;31mTypeError\u001b[0m: __init__() missing 3 required positional arguments: 'njoints', 'nfeats', and 'num_classes'"
     ]
    }
   ],
   "source": [
    "# load model\n",
    "assert parameters[\"modeltype\"] == 'cvae'\n",
    "assert parameters[\"archiname\"] == \"transformer\"\n",
    "\n",
    "from algorithm.action_conditioned.models.architectures.transformer import Encoder_TRANSFORMER, Decoder_TRANSFORMER\n",
    "from algorithm.action_conditioned.models.modeltype.cvae import CVAE\n",
    "\n",
    "encoder = Encoder_TRANSFORMER(**parameters)\n",
    "decoder = Decoder_TRANSFORMER(**parameters)\n",
    "\n",
    "parameters[\"outputxyz\"] = \"rcxyz\" in parameters[\"lambdas\"]"
   ]
  },
  {
   "cell_type": "code",
   "execution_count": null,
   "id": "69a54e5d",
   "metadata": {},
   "outputs": [],
   "source": []
  }
 ],
 "metadata": {
  "kernelspec": {
   "display_name": "Python 3",
   "language": "python",
   "name": "python3"
  },
  "language_info": {
   "codemirror_mode": {
    "name": "ipython",
    "version": 3
   },
   "file_extension": ".py",
   "mimetype": "text/x-python",
   "name": "python",
   "nbconvert_exporter": "python",
   "pygments_lexer": "ipython3",
   "version": "3.8.5"
  }
 },
 "nbformat": 4,
 "nbformat_minor": 5
}
