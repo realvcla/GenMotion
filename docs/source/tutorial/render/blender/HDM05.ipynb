{
 "cells": [
  {
   "cell_type": "markdown",
   "id": "dfe90a90",
   "metadata": {},
   "source": [
    "# Rendering Animations of HDM5 Dataset in Blender"
   ]
  },
  {
   "cell_type": "markdown",
   "id": "f4e85257",
   "metadata": {},
   "source": [
    "## Setup\n",
    "\n",
    "1. Get the raw files\n",
    "2. Open this tutorial"
   ]
  },
  {
   "cell_type": "code",
   "execution_count": 1,
   "id": "f8152cca",
   "metadata": {},
   "outputs": [],
   "source": [
    "import os\n",
    "os.chdir(\"../../../../../src\")\n",
    "\n",
    "import bpy\n",
    "from tqdm import tqdm\n",
    "from dataset.hdm05_params import ASF_JOINT2DOF\n",
    "from render.blender.utils import *\n",
    "import numpy as np\n"
   ]
  },
  {
   "cell_type": "code",
   "execution_count": 2,
   "id": "4481c4a0",
   "metadata": {},
   "outputs": [],
   "source": [
    "# Specify which amc file and fbx file to render\n",
    "amc_file_path = \"../../../../Downloads/HDM_tr_01-01_01_120.amc\"\n",
    "fbx_file_path = \"../dataset/HDM05/skeleton/tr.fbx\""
   ]
  },
  {
   "cell_type": "code",
   "execution_count": 3,
   "id": "581ba1a0",
   "metadata": {},
   "outputs": [
    {
     "name": "stdout",
     "output_type": "stream",
     "text": [
      "FBX Import: start importing ../dataset/HDM05/skeleton/tr.fbx\n",
      "FBX version: 7700\n",
      "\tFBX import: Prepare...\n",
      "\t\tDone (0.000625 sec)\n",
      "\n",
      "\tFBX import: Templates...\n",
      "\t\tDone (0.000040 sec)\n",
      "\n",
      "\tFBX import: Nodes...\n",
      "\t\tDone (0.000766 sec)\n",
      "\n",
      "\tFBX import: Connections...\n",
      "\t\tDone (0.000516 sec)\n",
      "\n",
      "\tFBX import: Meshes...\n",
      "\t\tDone (0.000424 sec)\n",
      "\n",
      "\tFBX import: Materials & Textures...\n",
      "\t\tDone (0.000062 sec)\n",
      "\n",
      "\tFBX import: Cameras & Lamps...\n",
      "\t\tDone (0.000061 sec)\n",
      "\n",
      "\tFBX import: Objects & Armatures...\n",
      "\t\tDone (0.007301 sec)\n",
      "\n",
      "\tFBX import: ShapeKeys...\n",
      "\t\tDone (0.000081 sec)\n",
      "\n",
      "\tFBX import: Animations...\n",
      "\t\tDone (0.000100 sec)\n",
      "\n",
      "\tFBX import: Assign materials...\n",
      "\t\tDone (0.000033 sec)\n",
      "\n",
      "\tFBX import: Assign textures...\n",
      "\t\tDone (0.000728 sec)\n",
      "\n",
      "\tFBX import: Cycles z-offset workaround...\n",
      "\t\tDone (0.000408 sec)\n",
      "\n",
      "\tDone (0.016296 sec)\n",
      "\n",
      "Import finished.\n"
     ]
    }
   ],
   "source": [
    "import_fbx(fbx_file_path)"
   ]
  },
  {
   "cell_type": "code",
   "execution_count": 24,
   "id": "c28ee5ab",
   "metadata": {},
   "outputs": [
    {
     "name": "stderr",
     "output_type": "stream",
     "text": [
      "100%|████████████████████████████████████████| 266793/266793 [00:00<00:00, 1743368.87it/s]\n"
     ]
    }
   ],
   "source": [
    "with open(amc_file_path, \"rb\") as f:\n",
    "    cur_frame = 0\n",
    "    character = bpy.data.objects[\"Armature\"]\n",
    "    character.select_set(True)\n",
    "    bpy.ops.object.mode_set(mode=\"POSE\")\n",
    "    for line in tqdm(f.readlines()):\n",
    "        if line.strip().isdigit():\n",
    "            cur_frame = int(line)\n",
    "        elif cur_frame > 0 and cur_frame % 100 == 0:\n",
    "            data = line.decode(\"utf-8\").strip().split()\n",
    "            joint_name = data[0]\n",
    "            joint = character.pose.bones[joint_name]\n",
    "            character.pose.bones[joint_name].rotation_mode = \"XYZ\"\n",
    "            if joint_name == \"root\":\n",
    "                set_joint_location_keyframe(joint, np.float_(data[1:4]), cur_frame)\n",
    "                set_joint_rotation_keyframe(joint, np.float_(data[4:]) * np.pi / 180, cur_frame)\n",
    "            else:\n",
    "                set_joint_rotation_keyframe(joint, np.float_(data[1:]) * np.pi / 180, cur_frame, axis=ASF_JOINT2DOF[joint_name])\n",
    "                \n",
    "    bpy.data.scenes[\"Scene\"].frame_start = 1\n",
    "    bpy.data.scenes[\"Scene\"].frame_end = cur_frame"
   ]
  },
  {
   "cell_type": "code",
   "execution_count": 23,
   "id": "09790675",
   "metadata": {},
   "outputs": [],
   "source": [
    "clear_all_animation()"
   ]
  },
  {
   "cell_type": "code",
   "execution_count": null,
   "id": "94bfcc8f",
   "metadata": {},
   "outputs": [],
   "source": []
  }
 ],
 "metadata": {
  "kernelspec": {
   "display_name": "blender",
   "language": "python",
   "name": "blender"
  },
  "language_info": {
   "codemirror_mode": {
    "name": "ipython",
    "version": 3
   },
   "file_extension": ".py",
   "mimetype": "text/x-python",
   "name": "python",
   "nbconvert_exporter": "python",
   "pygments_lexer": "ipython3",
   "version": "3.9.2"
  }
 },
 "nbformat": 4,
 "nbformat_minor": 5
}
