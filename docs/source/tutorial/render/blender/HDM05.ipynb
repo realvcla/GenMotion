{
 "cells": [
  {
   "cell_type": "markdown",
   "id": "dfe90a90",
   "metadata": {},
   "source": [
    "# Rendering Animations of HDM5 Dataset in Blender"
   ]
  },
  {
   "cell_type": "markdown",
   "id": "f4e85257",
   "metadata": {},
   "source": [
    "## Setup\n",
    "\n",
    "1. Get the raw files\n",
    "2. Open this tutorial"
   ]
  },
  {
   "cell_type": "code",
   "execution_count": 1,
   "id": "f8152cca",
   "metadata": {},
   "outputs": [],
   "source": [
    "import bpy\n",
    "from genmotion.render.blender.utils import *"
   ]
  },
  {
   "cell_type": "code",
   "execution_count": 2,
   "id": "4481c4a0",
   "metadata": {},
   "outputs": [],
   "source": [
    "# Specify which amc file and fbx file to render\n",
    "amc_file_path = \"../../../../Downloads/HDM_tr_01-01_01_120.amc\"\n",
    "fbx_file_path = \"../dataset/HDM05/skeleton/tr.fbx\""
   ]
  },
  {
   "cell_type": "code",
   "execution_count": 3,
   "id": "581ba1a0",
   "metadata": {},
   "outputs": [
    {
     "name": "stdout",
     "output_type": "stream",
     "text": [
      "FBX Import: start importing ../dataset/HDM05/skeleton/tr.fbx\n",
      "FBX version: 7700\n",
      "\tFBX import: Prepare...\n",
      "\t\tDone (0.000770 sec)\n",
      "\n",
      "\tFBX import: Templates...\n",
      "\t\tDone (0.000042 sec)\n",
      "\n",
      "\tFBX import: Nodes...\n",
      "\t\tDone (0.000523 sec)\n",
      "\n",
      "\tFBX import: Connections...\n",
      "\t\tDone (0.000420 sec)\n",
      "\n",
      "\tFBX import: Meshes...\n",
      "\t\tDone (0.000057 sec)\n",
      "\n",
      "\tFBX import: Materials & Textures...\n",
      "\t\tDone (0.000062 sec)\n",
      "\n",
      "\tFBX import: Cameras & Lamps...\n",
      "\t\tDone (0.000062 sec)\n",
      "\n",
      "\tFBX import: Objects & Armatures...\n",
      "\t\tDone (0.007919 sec)\n",
      "\n",
      "\tFBX import: ShapeKeys...\n",
      "\t\tDone (0.000087 sec)\n",
      "\n",
      "\tFBX import: Animations...\n",
      "\t\tDone (0.000098 sec)\n",
      "\n",
      "\tFBX import: Assign materials...\n",
      "\t\tDone (0.000058 sec)\n",
      "\n",
      "\tFBX import: Assign textures...\n",
      "\t\tDone (0.000884 sec)\n",
      "\n",
      "\tFBX import: Cycles z-offset workaround...\n",
      "\t\tDone (0.000052 sec)\n",
      "\n",
      "\tDone (0.016248 sec)\n",
      "\n",
      "Import finished.\n"
     ]
    }
   ],
   "source": [
    "import_fbx(fbx_file_path)"
   ]
  },
  {
   "cell_type": "code",
   "execution_count": 5,
   "id": "c28ee5ab",
   "metadata": {},
   "outputs": [
    {
     "name": "stderr",
     "output_type": "stream",
     "text": [
      "100%|██████████████████████████████████████████| 266793/266793 [00:03<00:00, 73953.61it/s]\n"
     ]
    }
   ],
   "source": [
    "set_amc_animation(amc_file_path, frame_distance=100)"
   ]
  },
  {
   "cell_type": "code",
   "execution_count": 6,
   "id": "09790675",
   "metadata": {},
   "outputs": [],
   "source": [
    "clear_all_animation()"
   ]
  },
  {
   "cell_type": "code",
   "execution_count": null,
   "id": "94bfcc8f",
   "metadata": {},
   "outputs": [],
   "source": []
  }
 ],
 "metadata": {
  "kernelspec": {
   "display_name": "blender",
   "language": "python",
   "name": "blender"
  },
  "language_info": {
   "codemirror_mode": {
    "name": "ipython",
    "version": 3
   },
   "file_extension": ".py",
   "mimetype": "text/x-python",
   "name": "python",
   "nbconvert_exporter": "python",
   "pygments_lexer": "ipython3",
   "version": "3.9.2"
  }
 },
 "nbformat": 4,
 "nbformat_minor": 5
}
