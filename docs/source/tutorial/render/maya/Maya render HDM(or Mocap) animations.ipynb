{
 "cells": [
  {
   "cell_type": "markdown",
   "metadata": {},
   "source": [
    "# Render HDM05/Mocap format in Maya\n",
    "\n",
    "This tutorial shows how to render animations from [HDM05](http://resources.mpi-inf.mpg.de/HDM05/) and [MOCAP](http://mocap.cs.cmu.edu/). Briefly, we first use their [tutorial for maya](http://mocap.cs.cmu.edu/asfamcmel/asfamcmel.php) to generate skelelon files, and then use our `GenMotion` api to render animations."
   ]
  },
  {
   "cell_type": "markdown",
   "metadata": {},
   "source": [
    "## Prepara skeleton with animations\n",
    "\n",
    "- We use `asf` files in [HDM05](http://resources.mpi-inf.mpg.de/HDM05/) and [MOCAP](http://mocap.cs.cmu.edu/) to generate skeletons. [HDM05](http://resources.mpi-inf.mpg.de/HDM05/), as the name suggests, contains five skeletons that you can download from the official website:\n",
    "<div>\n",
    "<img src=\"../../../../images/hdm05_asf.png\" width=\"500\"/>\n",
    "</div>\n",
    "Then you maya follow the steps by this [tutorial for maya](http://mocap.cs.cmu.edu/asfamcmel/asfamcmel.php) to generate skelelons.\n",
    "\n",
    "We include the skeletons in our folder; you may download them from [this link](https://github.com/yizhouzhao/GenMotion/tree/main/dataset/HDM05/skeleton).\n",
    "\n",
    "- We use `amc` files in [HDM05](http://resources.mpi-inf.mpg.de/HDM05/) and [MOCAP](http://mocap.cs.cmu.edu/) to generate skeletal animations.\n",
    "<div>\n",
    "<img src=\"../../../../images/hdm05_asf.png\" width=\"500\"/>\n",
    "</div>\n"
   ]
  },
  {
   "cell_type": "markdown",
   "metadata": {},
   "source": []
  },
  {
   "cell_type": "markdown",
   "metadata": {},
   "source": [
    "## Open Maya with socket server (HDM05/Mocap)\n",
    "\n",
    "- After starting Maya, open the [Script Editor](https://knowledge.autodesk.com/support/maya/learn-explore/caas/CloudHelp/cloudhelp/2020/ENU/Maya-Scripting/files/GUID-7C861047-C7E0-4780-ACB5-752CD22AB02E-htm.html#:~:text=To%20open%20the%20Script%20Editor,bottom%20right%20corner%20of%20Maya.)\n",
    "\n",
    "<div>\n",
    "<img src=\"../../../../images/maya_script_editor.png\" width=\"500\"/>\n",
    "</div>\n",
    "\n",
    "- Start a new Python script in the `Script Editor` and type the following command to open a [commandport] as a a local [**socket server**](https://download.autodesk.com/us/maya/2009help/CommandsPython/commandPort.html) with a **PORT** code e.g. 12345\n",
    "\n",
    "```python\n",
    "import maya.cmds as cmds\n",
    "\n",
    "# Open a command port with the default name \"mayaCommand\".\n",
    "cmds.commandPort(n=\"localhost:12345\")\n",
    "```"
   ]
  },
  {
   "cell_type": "markdown",
   "metadata": {},
   "source": [
    "## Import FBX model into Maya (HDM05/Mocap)\n",
    "\n",
    "In Maya scene, import the downloaded `fbx` file;\n",
    "\n",
    "<div>\n",
    "<img src=\"../../../../images/maya_import_fbx.png\" width=\"500\"/>\n",
    "</div>\n",
    "\n",
    "Now everything is ready to make animation from scripts in Maya. \n",
    "\n",
    "<div>\n",
    "<img src=\"../../../../images/maya_import_hdm05.png\" width=\"500\"/>\n",
    "</div>\n",
    "\n",
    "In Maya scene view, you will have see the `skeleton prefix` (e.g. *f_avg*) in the **Outliner** view, the `FBX` with skin and skeleton in **View Port**, and the `socket server` opened by the **Script Editor**. "
   ]
  },
  {
   "cell_type": "code",
   "execution_count": 1,
   "metadata": {},
   "outputs": [],
   "source": [
    "# asf_file = \"C:/Users/Yizhou Zhao/Downloads/HDM_bd_test.asf\""
   ]
  },
  {
   "cell_type": "code",
   "execution_count": 2,
   "metadata": {},
   "outputs": [],
   "source": [
    "# asf_joint2dof = {}\n",
    "# with open(asf_file) as f:\n",
    "#     current_joint_name = None\n",
    "#     for line in f.readlines():\n",
    "#         if \"name\" in line:\n",
    "#             current_joint_name = line.split()[-1]\n",
    "#             #print(current_joint_name)\n",
    "#         if \"dof\" in line:\n",
    "#             #print(line.split())\n",
    "#             asf_joint2dof[current_joint_name] = line.split()[1:]\n"
   ]
  },
  {
   "cell_type": "markdown",
   "metadata": {},
   "source": [
    "## Make an animation (HDM05/Mocap)"
   ]
  },
  {
   "cell_type": "code",
   "execution_count": 4,
   "metadata": {},
   "outputs": [],
   "source": [
    "# import packages\n",
    "import numpy as np\n",
    "from tqdm.auto import tqdm\n",
    "\n",
    "from genmotion.dataset.hdm05_params import ASF_JOINT2DOF\n",
    "from genmotion.render.maya.utils import MayaController\n"
   ]
  },
  {
   "cell_type": "code",
   "execution_count": 5,
   "metadata": {},
   "outputs": [],
   "source": [
    "# locate your amc (animation) file\n",
    "amc_file = \"../thirdParty/hdm05/HDM_bd_01-01_01_120.amc\""
   ]
  },
  {
   "cell_type": "code",
   "execution_count": 6,
   "metadata": {},
   "outputs": [],
   "source": [
    "# Set up Maya Controller (socket client) with PORT number\n",
    "mc = MayaController(PORT=12345)"
   ]
  },
  {
   "cell_type": "code",
   "execution_count": 21,
   "metadata": {},
   "outputs": [
    {
     "name": "stderr",
     "output_type": "stream",
     "text": [
      " 10%|█         | 30003/295263 [00:15<02:18, 1909.13it/s]\n"
     ]
    }
   ],
   "source": [
    "frame_count = 0 # record frame\n",
    "with open(amc_file) as f:\n",
    "    for line in tqdm(f.readlines()):\n",
    "        if line.strip().isdigit():\n",
    "            frame_count += 1\n",
    "            mc.SetCurrentTimeFrame(int(line.strip()))\n",
    "\n",
    "        # set up animation,  interpolate every 20 key frames\n",
    "        elif frame_count > 0 and frame_count % 20 == 0:\n",
    "                joint_name = line.strip().split()[0]\n",
    "                joint_pose = line.strip().split()[1:]\n",
    "\n",
    "                if joint_name == \"root\":\n",
    "                    # set transform for root\n",
    "                    mc.SetObjectAttribute(joint_name, \"translateX\", joint_pose[0])\n",
    "                    mc.SetObjectAttribute(joint_name, \"translateY\", joint_pose[1])\n",
    "                    mc.SetObjectAttribute(joint_name, \"translateZ\", joint_pose[2])\n",
    "                    mc.SetObjectAttribute(joint_name, \"rotateX\", joint_pose[3])\n",
    "                    mc.SetObjectAttribute(joint_name, \"rotateY\", joint_pose[4])\n",
    "                    mc.SetObjectAttribute(joint_name, \"rotateZ\", joint_pose[5])\n",
    "                else:\n",
    "                    for i in range(len(ASF_JOINT2DOF[joint_name])):\n",
    "                        dof = ASF_JOINT2DOF[joint_name][i]\n",
    "                        if dof == \"rx\":\n",
    "                            # set rotation for joints\n",
    "                            mc.SetObjectAttribute(joint_name, \"rotateX\", float(joint_pose[i]))\n",
    "                        if dof == \"ry\":\n",
    "                            # set rotation for joints\n",
    "                            mc.SetObjectAttribute(joint_name, \"rotateY\", float(joint_pose[i]))\n",
    "                        if dof == \"rz\":\n",
    "                            # set rotation for joints\n",
    "                            mc.SetObjectAttribute(joint_name, \"rotateZ\", float(joint_pose[i]))\n",
    "\n",
    "                # record keyframe\n",
    "                mc.SetCurrentKeyFrameForPositionAndRotation(joint_name)\n",
    "\n",
    "        # only show the first 1000 key frames for demo\n",
    "        if frame_count > 1000:\n",
    "            break\n"
   ]
  },
  {
   "cell_type": "code",
   "execution_count": 22,
   "metadata": {},
   "outputs": [
    {
     "data": {
      "text/plain": [
       "'1001.0\\n\\x00'"
      ]
     },
     "execution_count": 22,
     "metadata": {},
     "output_type": "execute_result"
    }
   ],
   "source": [
    "# Set timeline maximum\n",
    "mc.SendCommand(\"playbackOptions -max {}\".format(str(frame_count)))"
   ]
  },
  {
   "cell_type": "markdown",
   "metadata": {},
   "source": [
    "Now we can see the animation in Maya\n",
    "\n",
    "<div>\n",
    "<img src=\"../../../../images/maya_hdm05.gif\" width=\"500\"/>\n",
    "</div>"
   ]
  },
  {
   "cell_type": "markdown",
   "metadata": {},
   "source": []
  }
 ],
 "metadata": {
  "interpreter": {
   "hash": "be1319e0e5f68e9995c6387a47576bb513b1b8a8d0c4fb228c987c15c4df3d92"
  },
  "kernelspec": {
   "display_name": "Python 3.8.5 64-bit ('Questionnaire': conda)",
   "name": "python3"
  },
  "language_info": {
   "codemirror_mode": {
    "name": "ipython",
    "version": 3
   },
   "file_extension": ".py",
   "mimetype": "text/x-python",
   "name": "python",
   "nbconvert_exporter": "python",
   "pygments_lexer": "ipython3",
   "version": "3.8.5"
  },
  "orig_nbformat": 4
 },
 "nbformat": 4,
 "nbformat_minor": 2
}
