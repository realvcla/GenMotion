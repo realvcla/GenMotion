{
 "cells": [
  {
   "cell_type": "markdown",
   "metadata": {},
   "source": [
    "# Render animations in AMASS format in Maya"
   ]
  },
  {
   "cell_type": "markdown",
   "metadata": {},
   "source": [
    "This tutorial shows how to render animations in [Maya](https://www.autodesk.com/products/maya/overview) for [AMASS](https://amass.is.tue.mpg.de/) dataset collection"
   ]
  },
  {
   "cell_type": "markdown",
   "metadata": {},
   "source": [
    "## 1. Download dataset from AMASS collection\n",
    "\n",
    "- Download dataset: [AMASS](https://amass.is.tue.mpg.de/) is a large database of human motion unifying different optical marker-based motion capture datasets by representing them within a common framework and parameterization. After opening an [AMASS account](https://amass.is.tue.mpg.de/login.php), you may download the specific dataset you want from [AMASS Download](https://amass.is.tue.mpg.de/download.php), and download the `Dody Data` in the `SMPL+H` column, for example.\n",
    "\n",
    "<div>\n",
    "<img src=\"../../../../../dataset/Amass/imgs/download_npy.png\" width=\"500\"/>\n",
    "</div>\n",
    "\n",
    "- Download FBX skeleton: Download the FBX models for `SMPL+H` from [MANO downloads](https://mano.is.tue.mpg.de/downloads) after creating a [MANO account](https://mano.is.tue.mpg.de/en/sign_in)\n",
    "\n",
    "<div>\n",
    "<img src=\"../../../../../dataset/Amass/imgs/download_fbx.png\" width=\"500\"/>\n",
    "</div>\n"
   ]
  },
  {
   "cell_type": "code",
   "execution_count": 2,
   "metadata": {},
   "outputs": [],
   "source": [
    "# after downloading the dataset, unzip the tar.gz file, and assign the path for `npy`\n",
    "amass_npz_fname = '../../../thirdParty/accad/C2 - Run to stand_poses.npz' "
   ]
  },
  {
   "cell_type": "markdown",
   "metadata": {},
   "source": [
    "# 2.Open Maya with socket server\n",
    "\n",
    "- After starting Maya, open the [`Script Editor`](https://knowledge.autodesk.com/support/maya/learn-explore/caas/CloudHelp/cloudhelp/2020/ENU/Maya-Scripting/files/GUID-7C861047-C7E0-4780-ACB5-752CD22AB02E-htm.html#:~:text=To%20open%20the%20Script%20Editor,bottom%20right%20corner%20of%20Maya.)\n",
    "\n",
    "<div>\n",
    "<img src=\"../../../../images/maya_script_editor.png\" width=\"300\"/>\n",
    "</div>\n",
    "\n",
    "- Start a new Python script in the `Script Editor` and type the following command to open a [`commandport`](https://download.autodesk.com/us/maya/2009help/CommandsPython/commandPort.html) with a the **PORT** code e.g. 12345\n",
    "\n",
    "```python\n",
    "import maya.cmds as cmds\n",
    "\n",
    "# Open a command port with the default name \"mayaCommand\".\n",
    "cmds.commandPort(12345)\n",
    "```"
   ]
  },
  {
   "cell_type": "markdown",
   "metadata": {},
   "source": [
    "# 3. Import FBX model into Maya\n",
    "\n",
    "In Maya scene, import the downloaded `SMPL+H` fbx file;\n",
    "(or you may refer to [`Meshcapade Wiki`](https://meshcapade.wiki/) for more information with the `SMPL` format)"
   ]
  },
  {
   "cell_type": "code",
   "execution_count": null,
   "metadata": {},
   "outputs": [],
   "source": []
  }
 ],
 "metadata": {
  "kernelspec": {
   "display_name": "Python 3",
   "language": "python",
   "name": "python3"
  },
  "language_info": {
   "codemirror_mode": {
    "name": "ipython",
    "version": 3
   },
   "file_extension": ".py",
   "mimetype": "text/x-python",
   "name": "python",
   "nbconvert_exporter": "python",
   "pygments_lexer": "ipython3",
   "version": "3.7.4"
  }
 },
 "nbformat": 4,
 "nbformat_minor": 4
}
