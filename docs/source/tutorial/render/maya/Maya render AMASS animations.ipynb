{
 "cells": [
  {
   "cell_type": "markdown",
   "metadata": {},
   "source": [
    "# Render animations in AMASS format in Maya"
   ]
  },
  {
   "cell_type": "markdown",
   "metadata": {},
   "source": [
    "This tutorial shows how to render animations in [Maya](https://www.autodesk.com/products/maya/overview) for [AMASS](https://amass.is.tue.mpg.de/) dataset collection"
   ]
  },
  {
   "cell_type": "markdown",
   "metadata": {},
   "source": [
    "## Download dataset from AMASS collection\n",
    "\n",
    "- Download dataset: [AMASS](https://amass.is.tue.mpg.de/) is a large database of human motion unifying different optical marker-based motion capture datasets by representing them within a common framework and parameterization. After opening an [AMASS account](https://amass.is.tue.mpg.de/login.php), you may download the specific dataset you want from [AMASS Download](https://amass.is.tue.mpg.de/download.php), and download the `Dody Data` in the `SMPL+H` column, for example.\n",
    "\n",
    "<div>\n",
    "<img src=\"../../../../../dataset/Amass/imgs/download_npy.png\" width=\"500\"/>\n",
    "</div>\n",
    "\n",
    "- Download FBX skeleton: Download the FBX models for `SMPL+H` from [MANO downloads](https://mano.is.tue.mpg.de/downloads) after creating a [MANO account](https://mano.is.tue.mpg.de/en/sign_in)\n",
    "\n",
    "<div>\n",
    "<img src=\"../../../../../dataset/Amass/imgs/download_fbx.png\" width=\"500\"/>\n",
    "</div>\n"
   ]
  },
  {
   "cell_type": "code",
   "execution_count": 8,
   "metadata": {},
   "outputs": [],
   "source": [
    "# after downloading the dataset, unzip the tar.gz file, and assign the path for `npy` relative to the\\\n",
    "# the root folder of `GenMotion/src`\n",
    "amass_npz_fname = '../thirdParty/accad/C2 - Run to stand_poses.npz' "
   ]
  },
  {
   "cell_type": "markdown",
   "metadata": {},
   "source": [
    "## Open Maya with socket server\n",
    "\n",
    "- After starting Maya, open the [Script Editor](https://knowledge.autodesk.com/support/maya/learn-explore/caas/CloudHelp/cloudhelp/2020/ENU/Maya-Scripting/files/GUID-7C861047-C7E0-4780-ACB5-752CD22AB02E-htm.html#:~:text=To%20open%20the%20Script%20Editor,bottom%20right%20corner%20of%20Maya.)\n",
    "\n",
    "<div>\n",
    "<img src=\"../../../../images/maya_script_editor.png\" width=\"500\"/>\n",
    "</div>\n",
    "\n",
    "- Start a new Python script in the `Script Editor` and type the following command to open a [commandport] as a a local [**socket server**](https://download.autodesk.com/us/maya/2009help/CommandsPython/commandPort.html) with a **PORT** code e.g. 12345\n",
    "\n",
    "```python\n",
    "import maya.cmds as cmds\n",
    "\n",
    "# Open a command port with the default name \"mayaCommand\".\n",
    "cmds.commandPort(n=\"localhost:12345\")\n",
    "```"
   ]
  },
  {
   "cell_type": "markdown",
   "metadata": {},
   "source": [
    "## Import FBX model into Maya\n",
    "\n",
    "In Maya scene, import the downloaded `SMPL+H` fbx file;\n",
    "(or you may refer to [Meshcapade Wiki](https://meshcapade.wiki/) for more information with the `SMPL` format)\n",
    "\n",
    "<div>\n",
    "<img src=\"../../../../images/maya_import_fbx.png\" width=\"500\"/>\n",
    "</div>\n",
    "\n",
    "Now everything is ready to make animation from scripts in Maya. \n",
    "\n",
    "<div>\n",
    "<img src=\"../../../../images/maya_import_finished.png\" width=\"500\"/>\n",
    "</div>\n",
    "\n",
    "In Maya scene view, you will have see the `skeleton prefix` (e.g. *f_avg*) in the **Outliner** view, the `FBX` with skin and skeleton in **View Port**, and the `socket server` opened by the **Script Editor**. "
   ]
  },
  {
   "cell_type": "markdown",
   "metadata": {},
   "source": [
    "## Animation\n",
    "\n",
    "Now we are ready to make the animation from Python scripts."
   ]
  },
  {
   "cell_type": "code",
   "execution_count": 2,
   "metadata": {},
   "outputs": [
    {
     "data": {
      "text/plain": [
       "'e:\\\\researches\\\\GenMotion\\\\src'"
      ]
     },
     "execution_count": 2,
     "metadata": {},
     "output_type": "execute_result"
    }
   ],
   "source": [
    "# change working directory to `src` folder in the root folder\n",
    "import os\n",
    "os.chdir(\"../../../../../src\")\n",
    "os.getcwd()"
   ]
  },
  {
   "cell_type": "code",
   "execution_count": 18,
   "metadata": {},
   "outputs": [],
   "source": [
    "# import packages\n",
    "import numpy as np\n",
    "from tqdm.auto import tqdm\n",
    "\n",
    "# import GenMotion modules\n",
    "\n",
    "from dataset.amass_params import SMPL_H_SKELETON # recognize the skeleton type as SMPL_H\n",
    "from render.maya.utils import MayaController"
   ]
  },
  {
   "cell_type": "code",
   "execution_count": 9,
   "metadata": {},
   "outputs": [],
   "source": [
    "# load body data from npz file\n",
    "bdata = np.load(amass_npz_fname)"
   ]
  },
  {
   "cell_type": "code",
   "execution_count": 12,
   "metadata": {},
   "outputs": [],
   "source": [
    "# Set up Maya Controller\n",
    "mc = MayaController()"
   ]
  },
  {
   "cell_type": "code",
   "execution_count": 14,
   "metadata": {},
   "outputs": [],
   "source": [
    "## Test Maya command by setting the key frame at timeline\n",
    "# mc.SetCurrentTimeFrame(10)\n",
    "\n",
    "## Have a look at the body data information\n",
    "# print('Data keys available:%s'%list(bdata.keys()))"
   ]
  },
  {
   "cell_type": "code",
   "execution_count": 16,
   "metadata": {},
   "outputs": [
    {
     "name": "stdout",
     "output_type": "stream",
     "text": [
      "framerate: 120.0\n"
     ]
    }
   ],
   "source": [
    "# Get the frame rate of from the body data\n",
    "print(\"framerate:\", bdata['mocap_framerate'])"
   ]
  },
  {
   "cell_type": "code",
   "execution_count": 17,
   "metadata": {},
   "outputs": [],
   "source": [
    "# Set one frame for the animation\n",
    "def SetOneFrame(frame, body_data, joints_info_list: list, joint_prefix = \"f_avg_\"):\n",
    "    '''Set one maya frame from load data\n",
    "    \n",
    "    :param frame: int\n",
    "    :param body_data: array\n",
    "    :param joints_info_list: list\n",
    "    :return:\n",
    "    '''\n",
    "    #  set current time frame\n",
    "    mc.SetCurrentTimeFrame(frame)\n",
    "\n",
    "    for i in range(0,len(joints_info_list)):\n",
    "        # get rotation from body data\n",
    "        rotateX, rotateY, rotateZ = np.rad2deg(body_data['poses'][frame][i*3:(i+1)*3])\n",
    "        \n",
    "        # get joint name\n",
    "        joint_name = joint_prefix + joints_info_list[i]\n",
    "        \n",
    "        # if i == 0, set root translation\n",
    "        if i == 0:\n",
    "            joint_name = joint_prefix + \"root\"\n",
    "            translateX,translateY,translateZ = body_data['trans'][frame]\n",
    "            mc.SetObjectAttribute(joint_name, \"translateX\", translateX)\n",
    "            mc.SetObjectAttribute(joint_name, \"translateY\", translateY)\n",
    "            mc.SetObjectAttribute(joint_name, \"translateZ\", translateZ)\n",
    "            \n",
    "        # set rotation for joints\n",
    "        mc.SetObjectAttribute(joint_name, \"rotateX\", rotateX)\n",
    "        mc.SetObjectAttribute(joint_name, \"rotateY\", rotateY)\n",
    "        mc.SetObjectAttribute(joint_name, \"rotateZ\", rotateZ)\n",
    "        \n",
    "        mc.SetCurrentKeyFrameForPositionAndRotation(joint_name)\n",
    "        #break"
   ]
  },
  {
   "cell_type": "code",
   "execution_count": 19,
   "metadata": {},
   "outputs": [
    {
     "name": "stderr",
     "output_type": "stream",
     "text": [
      "100%|██████████| 64/64 [00:42<00:00,  1.52it/s]\n"
     ]
    }
   ],
   "source": [
    "# Now we maker animation for every 10 frame\n",
    "frame_interval = 10\n",
    "for frame in tqdm(range(0, len(bdata[\"poses\"]), frame_interval)):\n",
    "    SetOneFrame(frame, bdata, SMPL_H_SKELETON)"
   ]
  },
  {
   "cell_type": "markdown",
   "metadata": {},
   "source": [
    "Now we are able to see the animation in Maya!\n",
    "\n",
    "<div>\n",
    "<img src=\"../../../../images/maya_amass_demo1.gif\" width=\"500\"/>\n",
    "</div>"
   ]
  },
  {
   "cell_type": "markdown",
   "metadata": {},
   "source": []
  }
 ],
 "metadata": {
  "interpreter": {
   "hash": "be1319e0e5f68e9995c6387a47576bb513b1b8a8d0c4fb228c987c15c4df3d92"
  },
  "kernelspec": {
   "display_name": "Python 3.8.5 64-bit ('Questionnaire': conda)",
   "name": "python3"
  },
  "language_info": {
   "codemirror_mode": {
    "name": "ipython",
    "version": 3
   },
   "file_extension": ".py",
   "mimetype": "text/x-python",
   "name": "python",
   "nbconvert_exporter": "python",
   "pygments_lexer": "ipython3",
   "version": "3.8.5"
  }
 },
 "nbformat": 4,
 "nbformat_minor": 4
}
