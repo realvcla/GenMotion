{
 "cells": [
  {
   "cell_type": "markdown",
   "metadata": {},
   "source": [
    "# Demo: Contional Animation Making"
   ]
  },
  {
   "cell_type": "code",
   "execution_count": 1,
   "metadata": {},
   "outputs": [
    {
     "data": {
      "text/plain": [
       "['algorithm', 'dataset', 'pretrained', 'render', '__init__.py', '__pycache__']"
      ]
     },
     "execution_count": 1,
     "metadata": {},
     "output_type": "execute_result"
    }
   ],
   "source": [
    "import os\n",
    "os.chdir(\"../../../\")\n",
    "os.listdir(os.getcwd())"
   ]
  },
  {
   "cell_type": "code",
   "execution_count": 2,
   "metadata": {},
   "outputs": [],
   "source": [
    "import torch\n",
    "\n",
    "from genmotion.algorithm.action_conditioned.params import HumanAct12Params\n",
    "from genmotion.algorithm.action_conditioned.data_utils import get_datasets\n",
    "\n",
    "from genmotion.algorithm.action_conditioned.utils.tensors import collate"
   ]
  },
  {
   "cell_type": "code",
   "execution_count": 3,
   "metadata": {},
   "outputs": [],
   "source": [
    "# load parameters\n",
    "parameters = vars(HumanAct12Params())"
   ]
  },
  {
   "cell_type": "code",
   "execution_count": null,
   "metadata": {},
   "outputs": [],
   "source": [
    "# load model\n",
    "assert parameters[\"modeltype\"] == 'cvae'\n",
    "assert parameters[\"archiname\"] == \"transformer\"\n",
    "\n",
    "from genmotion.algorithm.action_conditioned.models.architectures.transformer import Encoder_TRANSFORMER, Decoder_TRANSFORMER\n",
    "from genmotion.algorithm.action_conditioned.models.modeltype.cvae import CVAE\n",
    "\n",
    "encoder = Encoder_TRANSFORMER(**parameters)\n",
    "decoder = Decoder_TRANSFORMER(**parameters)\n",
    "\n",
    "parameters[\"outputxyz\"] = \"rcxyz\" in parameters[\"lambdas\"]\n",
    "\n",
    "model = CVAE(encoder, decoder, **parameters).to(parameters[\"device\"])"
   ]
  }
 ],
 "metadata": {
  "interpreter": {
   "hash": "be1319e0e5f68e9995c6387a47576bb513b1b8a8d0c4fb228c987c15c4df3d92"
  },
  "kernelspec": {
   "display_name": "Python 3.8.5 64-bit ('Questionnaire': conda)",
   "language": "python",
   "name": "python3"
  },
  "language_info": {
   "codemirror_mode": {
    "name": "ipython",
    "version": 3
   },
   "file_extension": ".py",
   "mimetype": "text/x-python",
   "name": "python",
   "nbconvert_exporter": "python",
   "pygments_lexer": "ipython3",
   "version": "3.8.5"
  },
  "orig_nbformat": 4
 },
 "nbformat": 4,
 "nbformat_minor": 2
}
